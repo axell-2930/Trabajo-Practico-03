{
 "cells": [
  {
   "cell_type": "markdown",
   "id": "763600ad",
   "metadata": {},
   "source": [
    "# Trabajo Practico 3"
   ]
  },
  {
   "cell_type": "markdown",
   "id": "e3bbfecd",
   "metadata": {},
   "source": [
    "## Biblioteca"
   ]
  },
  {
   "cell_type": "code",
   "execution_count": 51,
   "id": "ed886915",
   "metadata": {},
   "outputs": [],
   "source": [
    "import pandas as pd\n",
    "import geopandas as gpd\n",
    "import folium\n",
    "from folium import Marker\n",
    "from folium import Circle\n",
    "from folium.plugins import MarkerCluster\n",
    "import plotly.express as px\n",
    "import plotly.graph_objects as go\n",
    "import plotly.figure_factory as ff\n",
    "import calendar \n",
    "import math\n",
    "from folium.plugins import HeatMap"
   ]
  },
  {
   "cell_type": "markdown",
   "id": "c7aeba7b",
   "metadata": {},
   "source": [
    "## Datos de felinos y Areas Silvestres Protegidas en Costa Rica"
   ]
  },
  {
   "cell_type": "code",
   "execution_count": 32,
   "id": "0917e430",
   "metadata": {},
   "outputs": [],
   "source": [
    "#Cargos datos csv y geojson de felinos y Areas Silvestres Protegidas\n",
    "felinos=pd.read_csv(\"../datos/felinos.csv\",sep=\"\\t\")\n",
    "asp=gpd.read_file(\"../datos/areas.geojson\",sep=\"\\t\")"
   ]
  },
  {
   "cell_type": "code",
   "execution_count": 33,
   "id": "2ebbfca9",
   "metadata": {},
   "outputs": [
    {
     "data": {
      "text/html": [
       "<div>\n",
       "<style scoped>\n",
       "    .dataframe tbody tr th:only-of-type {\n",
       "        vertical-align: middle;\n",
       "    }\n",
       "\n",
       "    .dataframe tbody tr th {\n",
       "        vertical-align: top;\n",
       "    }\n",
       "\n",
       "    .dataframe thead th {\n",
       "        text-align: right;\n",
       "    }\n",
       "</style>\n",
       "<table border=\"1\" class=\"dataframe\">\n",
       "  <thead>\n",
       "    <tr style=\"text-align: right;\">\n",
       "      <th></th>\n",
       "      <th>Especies</th>\n",
       "      <th>Provincia</th>\n",
       "      <th>Localidad</th>\n",
       "      <th>Fecha</th>\n",
       "    </tr>\n",
       "  </thead>\n",
       "  <tbody>\n",
       "    <tr>\n",
       "      <th>0</th>\n",
       "      <td>Puma concolor</td>\n",
       "      <td>Puntarenas</td>\n",
       "      <td>NaN</td>\n",
       "      <td>2022-04-22</td>\n",
       "    </tr>\n",
       "    <tr>\n",
       "      <th>1</th>\n",
       "      <td>Panthera onca</td>\n",
       "      <td>Limón</td>\n",
       "      <td>NaN</td>\n",
       "      <td>2022-10-09</td>\n",
       "    </tr>\n",
       "    <tr>\n",
       "      <th>2</th>\n",
       "      <td>Panthera onca</td>\n",
       "      <td>Guanacaste</td>\n",
       "      <td>NaN</td>\n",
       "      <td>2022-09-28</td>\n",
       "    </tr>\n",
       "    <tr>\n",
       "      <th>3</th>\n",
       "      <td>Leopardus tigrinus</td>\n",
       "      <td>Guanacaste</td>\n",
       "      <td>NaN</td>\n",
       "      <td>2018-02-19</td>\n",
       "    </tr>\n",
       "    <tr>\n",
       "      <th>4</th>\n",
       "      <td>Puma yagouaroundi</td>\n",
       "      <td>Puntarenas</td>\n",
       "      <td>NaN</td>\n",
       "      <td>2022-01-23</td>\n",
       "    </tr>\n",
       "    <tr>\n",
       "      <th>...</th>\n",
       "      <td>...</td>\n",
       "      <td>...</td>\n",
       "      <td>...</td>\n",
       "      <td>...</td>\n",
       "    </tr>\n",
       "    <tr>\n",
       "      <th>185</th>\n",
       "      <td>Puma concolor</td>\n",
       "      <td>NaN</td>\n",
       "      <td>Cordillera de Talamanca, Chirripó-Massiv (Saba...</td>\n",
       "      <td>NaT</td>\n",
       "    </tr>\n",
       "    <tr>\n",
       "      <th>186</th>\n",
       "      <td>Leopardus tigrinus</td>\n",
       "      <td>San José Province</td>\n",
       "      <td>Ca. 4 km SW Cerro Chirripo</td>\n",
       "      <td>1967-05-15</td>\n",
       "    </tr>\n",
       "    <tr>\n",
       "      <th>187</th>\n",
       "      <td>Leopardus tigrinus</td>\n",
       "      <td>San José Province</td>\n",
       "      <td>La Piedra</td>\n",
       "      <td>1967-02-01</td>\n",
       "    </tr>\n",
       "    <tr>\n",
       "      <th>188</th>\n",
       "      <td>Leopardus pardalis</td>\n",
       "      <td>Puntarenas Province</td>\n",
       "      <td>14 km NE Potrero Grande</td>\n",
       "      <td>1965-06-28</td>\n",
       "    </tr>\n",
       "    <tr>\n",
       "      <th>189</th>\n",
       "      <td>Leopardus pardalis</td>\n",
       "      <td>Puntarenas Province</td>\n",
       "      <td>Gromaco, 15 km ESE Potrero Grande</td>\n",
       "      <td>1963-02-03</td>\n",
       "    </tr>\n",
       "  </tbody>\n",
       "</table>\n",
       "<p>190 rows × 4 columns</p>\n",
       "</div>"
      ],
      "text/plain": [
       "               Especies            Provincia  \\\n",
       "0         Puma concolor           Puntarenas   \n",
       "1         Panthera onca                Limón   \n",
       "2         Panthera onca           Guanacaste   \n",
       "3    Leopardus tigrinus           Guanacaste   \n",
       "4     Puma yagouaroundi           Puntarenas   \n",
       "..                  ...                  ...   \n",
       "185       Puma concolor                  NaN   \n",
       "186  Leopardus tigrinus    San José Province   \n",
       "187  Leopardus tigrinus    San José Province   \n",
       "188  Leopardus pardalis  Puntarenas Province   \n",
       "189  Leopardus pardalis  Puntarenas Province   \n",
       "\n",
       "                                             Localidad       Fecha  \n",
       "0                                                  NaN  2022-04-22  \n",
       "1                                                  NaN  2022-10-09  \n",
       "2                                                  NaN  2022-09-28  \n",
       "3                                                  NaN  2018-02-19  \n",
       "4                                                  NaN  2022-01-23  \n",
       "..                                                 ...         ...  \n",
       "185  Cordillera de Talamanca, Chirripó-Massiv (Saba...         NaT  \n",
       "186                         Ca. 4 km SW Cerro Chirripo  1967-05-15  \n",
       "187                                          La Piedra  1967-02-01  \n",
       "188                            14 km NE Potrero Grande  1965-06-28  \n",
       "189                  Gromaco, 15 km ESE Potrero Grande  1963-02-03  \n",
       "\n",
       "[190 rows x 4 columns]"
      ]
     },
     "execution_count": 33,
     "metadata": {},
     "output_type": "execute_result"
    }
   ],
   "source": [
    "# Datos felinos\n",
    "felinos_datos = felinos[[\"species\", \"stateProvince\", \"locality\", \"eventDate\"]]\n",
    "\n",
    "# Se realiza el cambio de nombre de las columnas.\n",
    "felinos_datos = felinos_datos.rename(columns={\"species\": \"Especies\",\n",
    "                                              \"stateProvince\": \"Provincia\",\n",
    "                                              \"locality\": \"Localidad\",\n",
    "                                              \"eventDate\": \"Fecha\"})\n",
    "\n",
    "# Cambio de formato de fecha. \n",
    "felinos_datos[\"Fecha\"] = pd.to_datetime(felinos_datos[\"Fecha\"]).dt.date\n",
    "\n",
    "felinos_datos"
   ]
  },
  {
   "cell_type": "markdown",
   "id": "795b5f6e",
   "metadata": {},
   "source": [
    "## Depuracion de tabla de felinos"
   ]
  },
  {
   "cell_type": "code",
   "execution_count": 12,
   "id": "d1aa3f80",
   "metadata": {},
   "outputs": [
    {
     "data": {
      "text/html": [
       "<div>\n",
       "<style scoped>\n",
       "    .dataframe tbody tr th:only-of-type {\n",
       "        vertical-align: middle;\n",
       "    }\n",
       "\n",
       "    .dataframe tbody tr th {\n",
       "        vertical-align: top;\n",
       "    }\n",
       "\n",
       "    .dataframe thead th {\n",
       "        text-align: right;\n",
       "    }\n",
       "</style>\n",
       "<table border=\"1\" class=\"dataframe\">\n",
       "  <thead>\n",
       "    <tr style=\"text-align: right;\">\n",
       "      <th></th>\n",
       "      <th>Especies</th>\n",
       "      <th>Provincia</th>\n",
       "      <th>Localidad</th>\n",
       "      <th>Fecha</th>\n",
       "    </tr>\n",
       "  </thead>\n",
       "  <tbody>\n",
       "    <tr>\n",
       "      <th>0</th>\n",
       "      <td>Puma concolor</td>\n",
       "      <td>Puntarenas</td>\n",
       "      <td>NaN</td>\n",
       "      <td>2022-04-22</td>\n",
       "    </tr>\n",
       "    <tr>\n",
       "      <th>1</th>\n",
       "      <td>Panthera onca</td>\n",
       "      <td>Limón</td>\n",
       "      <td>NaN</td>\n",
       "      <td>2022-10-09</td>\n",
       "    </tr>\n",
       "    <tr>\n",
       "      <th>2</th>\n",
       "      <td>Panthera onca</td>\n",
       "      <td>Guanacaste</td>\n",
       "      <td>NaN</td>\n",
       "      <td>2022-09-28</td>\n",
       "    </tr>\n",
       "    <tr>\n",
       "      <th>3</th>\n",
       "      <td>Leopardus tigrinus</td>\n",
       "      <td>Guanacaste</td>\n",
       "      <td>NaN</td>\n",
       "      <td>2018-02-19</td>\n",
       "    </tr>\n",
       "    <tr>\n",
       "      <th>4</th>\n",
       "      <td>Puma yagouaroundi</td>\n",
       "      <td>Puntarenas</td>\n",
       "      <td>NaN</td>\n",
       "      <td>2022-01-23</td>\n",
       "    </tr>\n",
       "    <tr>\n",
       "      <th>...</th>\n",
       "      <td>...</td>\n",
       "      <td>...</td>\n",
       "      <td>...</td>\n",
       "      <td>...</td>\n",
       "    </tr>\n",
       "    <tr>\n",
       "      <th>184</th>\n",
       "      <td>Leopardus pardalis</td>\n",
       "      <td>Limón</td>\n",
       "      <td>Talamanca</td>\n",
       "      <td>1839-01-01</td>\n",
       "    </tr>\n",
       "    <tr>\n",
       "      <th>186</th>\n",
       "      <td>Leopardus tigrinus</td>\n",
       "      <td>San José Province</td>\n",
       "      <td>Ca. 4 km SW Cerro Chirripo</td>\n",
       "      <td>1967-05-15</td>\n",
       "    </tr>\n",
       "    <tr>\n",
       "      <th>187</th>\n",
       "      <td>Leopardus tigrinus</td>\n",
       "      <td>San José Province</td>\n",
       "      <td>La Piedra</td>\n",
       "      <td>1967-02-01</td>\n",
       "    </tr>\n",
       "    <tr>\n",
       "      <th>188</th>\n",
       "      <td>Leopardus pardalis</td>\n",
       "      <td>Puntarenas Province</td>\n",
       "      <td>14 km NE Potrero Grande</td>\n",
       "      <td>1965-06-28</td>\n",
       "    </tr>\n",
       "    <tr>\n",
       "      <th>189</th>\n",
       "      <td>Leopardus pardalis</td>\n",
       "      <td>Puntarenas Province</td>\n",
       "      <td>Gromaco, 15 km ESE Potrero Grande</td>\n",
       "      <td>1963-02-03</td>\n",
       "    </tr>\n",
       "  </tbody>\n",
       "</table>\n",
       "<p>172 rows × 4 columns</p>\n",
       "</div>"
      ],
      "text/plain": [
       "               Especies            Provincia  \\\n",
       "0         Puma concolor           Puntarenas   \n",
       "1         Panthera onca                Limón   \n",
       "2         Panthera onca           Guanacaste   \n",
       "3    Leopardus tigrinus           Guanacaste   \n",
       "4     Puma yagouaroundi           Puntarenas   \n",
       "..                  ...                  ...   \n",
       "184  Leopardus pardalis                Limón   \n",
       "186  Leopardus tigrinus    San José Province   \n",
       "187  Leopardus tigrinus    San José Province   \n",
       "188  Leopardus pardalis  Puntarenas Province   \n",
       "189  Leopardus pardalis  Puntarenas Province   \n",
       "\n",
       "                             Localidad       Fecha  \n",
       "0                                  NaN  2022-04-22  \n",
       "1                                  NaN  2022-10-09  \n",
       "2                                  NaN  2022-09-28  \n",
       "3                                  NaN  2018-02-19  \n",
       "4                                  NaN  2022-01-23  \n",
       "..                                 ...         ...  \n",
       "184                          Talamanca  1839-01-01  \n",
       "186         Ca. 4 km SW Cerro Chirripo  1967-05-15  \n",
       "187                          La Piedra  1967-02-01  \n",
       "188            14 km NE Potrero Grande  1965-06-28  \n",
       "189  Gromaco, 15 km ESE Potrero Grande  1963-02-03  \n",
       "\n",
       "[172 rows x 4 columns]"
      ]
     },
     "execution_count": 12,
     "metadata": {},
     "output_type": "execute_result"
    }
   ],
   "source": [
    "# Se cambia el nombre de las columnas\n",
    "felinos_datos = felinos_datos[felinos_datos['Provincia'].notna()]\n",
    "felinos_datos"
   ]
  },
  {
   "cell_type": "markdown",
   "id": "1ce721af",
   "metadata": {},
   "source": [
    "## Se crea la tabla de datos de felinos"
   ]
  },
  {
   "cell_type": "code",
   "execution_count": 18,
   "id": "cfd74ce7",
   "metadata": {},
   "outputs": [
    {
     "data": {
      "application/vnd.plotly.v1+json": {
       "config": {
        "plotlyServerURL": "https://plot.ly"
       },
       "data": [
        {
         "cells": {
          "align": "center",
          "fill": {
           "color": "LightSalmon"
          },
          "font": {
           "color": "black",
           "size": 12
          },
          "values": [
           [
            "Puma concolor",
            "Panthera onca",
            "Panthera onca",
            "Leopardus tigrinus",
            "Puma yagouaroundi",
            "Leopardus pardalis",
            "Puma yagouaroundi",
            "Puma concolor",
            "Puma concolor",
            "Leopardus pardalis",
            "Puma yagouaroundi",
            "Puma concolor",
            "Puma yagouaroundi",
            "Puma concolor",
            "Leopardus pardalis",
            "Puma concolor",
            "Leopardus pardalis",
            "Panthera onca",
            "Leopardus tigrinus",
            "Puma yagouaroundi",
            "Puma concolor",
            "Puma concolor",
            "Puma yagouaroundi",
            "Panthera onca",
            "Leopardus pardalis",
            "Panthera onca",
            "Puma concolor",
            "Leopardus pardalis",
            "Puma concolor",
            "Leopardus pardalis",
            "Leopardus pardalis",
            "Puma concolor",
            "Leopardus wiedii",
            "Puma concolor",
            "Leopardus pardalis",
            "Leopardus pardalis",
            "Leopardus pardalis",
            "Leopardus wiedii",
            "Leopardus pardalis",
            "Puma concolor",
            "Puma concolor",
            "Puma concolor",
            "Leopardus pardalis",
            "Leopardus pardalis",
            "Leopardus wiedii",
            "Leopardus wiedii",
            "Puma concolor",
            "Leopardus pardalis",
            "Leopardus pardalis",
            "Leopardus pardalis",
            "Puma concolor",
            "Puma concolor",
            "Puma concolor",
            "Puma concolor",
            "Leopardus pardalis",
            "Puma yagouaroundi",
            "Leopardus wiedii",
            "Puma concolor",
            "Leopardus pardalis",
            "Puma yagouaroundi",
            "Puma concolor",
            "Panthera onca",
            "Leopardus wiedii",
            "Leopardus wiedii",
            "Leopardus pardalis",
            "Leopardus pardalis",
            "Leopardus pardalis",
            "Leopardus wiedii",
            "Puma yagouaroundi",
            "Puma concolor",
            "Puma concolor",
            "Puma yagouaroundi",
            "Panthera onca",
            "Leopardus pardalis",
            "Puma concolor",
            "Leopardus pardalis",
            "Leopardus pardalis",
            "Puma concolor",
            "Panthera onca",
            "Puma concolor",
            "Leopardus pardalis",
            "Puma concolor",
            "Leopardus pardalis",
            "Leopardus wiedii",
            "Panthera onca",
            "Puma concolor",
            "Leopardus wiedii",
            "Leopardus pardalis",
            "Panthera onca",
            "Puma concolor",
            "Puma yagouaroundi",
            "Leopardus pardalis",
            "Puma concolor",
            "Leopardus pardalis",
            "Puma concolor",
            "Puma concolor",
            "Leopardus pardalis",
            "Puma concolor",
            "Leopardus pardalis",
            "Puma concolor",
            "Panthera onca",
            "Leopardus pardalis",
            "Puma concolor",
            "Panthera onca",
            "Puma concolor",
            "Panthera onca",
            "Panthera onca",
            "Leopardus pardalis",
            "Panthera onca",
            "Leopardus tigrinus",
            "Panthera onca",
            "Leopardus pardalis",
            "Panthera onca",
            "Panthera onca",
            "Puma yagouaroundi",
            "Puma concolor",
            "Puma concolor",
            "Leopardus pardalis",
            "Panthera onca",
            "Leopardus wiedii",
            "Panthera onca",
            "Leopardus pardalis",
            "Puma concolor",
            "Panthera onca",
            "Leopardus pardalis",
            "Panthera onca",
            "Leopardus wiedii",
            "Puma concolor",
            "Leopardus wiedii",
            "Panthera onca",
            "Leopardus pardalis",
            "Puma concolor",
            "Leopardus wiedii",
            "Puma concolor",
            "Puma concolor",
            "Leopardus pardalis",
            "Leopardus pardalis",
            "Leopardus wiedii",
            "Puma concolor",
            "Puma concolor",
            "Leopardus pardalis",
            "Panthera onca",
            "Panthera onca",
            "Leopardus pardalis",
            "Leopardus pardalis",
            "Leopardus pardalis",
            "Leopardus pardalis",
            "Leopardus pardalis",
            "Leopardus pardalis",
            "Leopardus pardalis",
            "Leopardus pardalis",
            "Leopardus pardalis",
            "Leopardus wiedii",
            "Leopardus pardalis",
            "Puma concolor",
            "Puma concolor",
            "Leopardus pardalis",
            "Leopardus pardalis",
            "Panthera onca",
            "Leopardus wiedii",
            "Leopardus pardalis",
            "Leopardus pardalis",
            "Leopardus pardalis",
            "Leopardus pardalis",
            "Leopardus pardalis",
            "Leopardus pardalis",
            "Leopardus wiedii",
            "Leopardus pardalis",
            "Leopardus tigrinus",
            "Leopardus tigrinus",
            "Leopardus pardalis",
            "Leopardus pardalis"
           ],
           [
            "Puntarenas",
            "Limón",
            "Guanacaste",
            "Guanacaste",
            "Puntarenas",
            "Puntarenas",
            "Puntarenas",
            "Puntarenas",
            "Heredia",
            "Puntarenas",
            "Puntarenas",
            "Puntarenas",
            "Puntarenas",
            "Guanacaste",
            "Puntarenas",
            "Puntarenas",
            "Puntarenas",
            "Guanacaste",
            "Alajuela",
            "Guanacaste",
            "Puntarenas",
            "Puntarenas",
            "Puntarenas",
            "Limón",
            "Alajuela",
            "Guanacaste",
            "Puntarenas",
            "Alajuela",
            "Puntarenas",
            "Alajuela",
            "Puntarenas",
            "Puntarenas",
            "Guanacaste",
            "Puntarenas",
            "Puntarenas",
            "Guanacaste",
            "Puntarenas",
            "Puntarenas",
            "Guanacaste",
            "Puntarenas",
            "Puntarenas",
            "Puntarenas",
            "Alajuela",
            "Alajuela",
            "Alajuela",
            "Alajuela",
            "Guanacaste",
            "Puntarenas",
            "Puntarenas",
            "Guanacaste",
            "Alajuela",
            "Puntarenas",
            "Puntarenas",
            "Puntarenas",
            "Limón",
            "Guanacaste",
            "Alajuela",
            "Puntarenas",
            "Puntarenas",
            "Puntarenas",
            "Guanacaste",
            "Heredia",
            "Alajuela",
            "Alajuela",
            "Limón",
            "Limón",
            "Alajuela",
            "Puntarenas",
            "Guanacaste",
            "Heredia",
            "Puntarenas",
            "Puntarenas",
            "Puntarenas",
            "Puntarenas",
            "Puntarenas",
            "Puntarenas",
            "Puntarenas",
            "Puntarenas",
            "Puntarenas",
            "Puntarenas",
            "Puntarenas",
            "Heredia",
            "Puntarenas",
            "San José",
            "Limón",
            "Heredia",
            "Guanacaste",
            "Puntarenas",
            "Alajuela",
            "Puntarenas",
            "Puntarenas",
            "Puntarenas",
            "San José",
            "Cartago",
            "Alajuela",
            "Puntarenas",
            "Limón",
            "Puntarenas",
            "Puntarenas",
            "Guanacaste",
            "Guanacaste",
            "Guanacaste",
            "Puntarenas",
            "Limón",
            "Puntarenas",
            "Guanacaste",
            "Limón",
            "Puntarenas",
            "Limón",
            "Puntarenas",
            "Limón",
            "Guanacaste",
            "Puntarenas",
            "Limón",
            "Alajuela",
            "San José",
            "Guanacaste",
            "Guanacaste",
            "Limón",
            "Alajuela",
            "Limón",
            "Puntarenas",
            "Alajuela",
            "Limón",
            "Puntarenas",
            "Limón",
            "Puntarenas",
            "Puntarenas",
            "Puntarenas",
            "Guanacaste",
            "Puntarenas",
            "Heredia",
            "Puntarenas",
            "Heredia",
            "Puntarenas",
            "Puntarenas",
            "Alajuela",
            "Alajuela",
            "Puntarenas",
            "Puntarenas",
            "Puntarenas",
            "Puntarenas",
            "Heredia",
            "Heredia",
            "Guanacaste",
            "Puntarenas",
            "Heredia",
            "Limón",
            "Heredia",
            "San Jose",
            "San Jose",
            "Limon",
            "Alajuela",
            "Guanacaste Prov",
            "Guanacaste Prov",
            "Puntarenas Prov",
            "Puntarenas Prov",
            "Limón",
            "Alajuela",
            "Guanacaste",
            "Limón",
            "Cartago",
            "Limón",
            "Limón",
            "Cartago",
            "Limón",
            "Limón",
            "Limón",
            "San José Province",
            "San José Province",
            "Puntarenas Province",
            "Puntarenas Province"
           ],
           [
            null,
            null,
            null,
            null,
            null,
            null,
            null,
            null,
            null,
            null,
            null,
            null,
            null,
            null,
            null,
            null,
            null,
            null,
            null,
            null,
            null,
            null,
            null,
            null,
            null,
            null,
            null,
            null,
            null,
            null,
            null,
            null,
            null,
            null,
            null,
            null,
            null,
            null,
            null,
            null,
            null,
            null,
            null,
            null,
            null,
            null,
            null,
            null,
            null,
            null,
            null,
            null,
            null,
            null,
            null,
            null,
            null,
            null,
            null,
            null,
            null,
            null,
            null,
            null,
            null,
            null,
            null,
            null,
            null,
            null,
            null,
            null,
            null,
            null,
            null,
            null,
            null,
            null,
            null,
            null,
            null,
            null,
            null,
            null,
            null,
            null,
            "FILADELFIA, 7 MI SW OF",
            "14 km NE Potrero Grande",
            "DELICIAS DE UPALA, 2 KM N OF",
            null,
            null,
            null,
            null,
            null,
            null,
            null,
            null,
            null,
            null,
            null,
            null,
            null,
            null,
            null,
            null,
            null,
            null,
            null,
            null,
            null,
            null,
            null,
            null,
            null,
            null,
            null,
            null,
            null,
            null,
            null,
            null,
            null,
            null,
            null,
            null,
            null,
            null,
            null,
            null,
            null,
            null,
            null,
            null,
            null,
            null,
            null,
            null,
            null,
            null,
            null,
            null,
            null,
            null,
            null,
            "[no specific locality data]",
            null,
            null,
            null,
            null,
            "vicinity of San Isidro del General",
            "vicinity of San Jose",
            null,
            null,
            "San Juan San Juan de Santa Cruz",
            "Port Parker/ Gulf of Santa Elena Port Parker",
            "Rincon Rincon de Osa",
            "Potrero Grande Potrero Grande, 25 km E",
            null,
            "DELICIAS DE UPALA, 2 KM N OF",
            "FILADELFIA, 7 MI SW OF",
            "Talamanca",
            "Turrialba",
            "Talamanca",
            "Talamanca",
            "Turrialba",
            "Talamanca",
            "Talamanca",
            "Talamanca",
            "Ca. 4 km SW Cerro Chirripo",
            "La Piedra",
            "14 km NE Potrero Grande",
            "Gromaco, 15 km ESE Potrero Grande"
           ],
           [
            "2022-04-22",
            "2022-10-09",
            "2022-09-28",
            "2018-02-19",
            "2022-01-23",
            "2022-08-28",
            "2019-03-22",
            "2022-06-13",
            "2022-07-07",
            "2022-08-02",
            "2022-08-02",
            "2022-08-02",
            "2022-07-08",
            "2022-07-21",
            "2022-05-05",
            "2013-02-28",
            "2016-04-01",
            "2022-05-22",
            "2022-02-13",
            "2022-05-04",
            "2022-04-08",
            "2022-04-22",
            "2021-01-06",
            "2022-04-12",
            "2022-02-24",
            "2011-02-15",
            "2021-12-30",
            "2022-02-01",
            "2021-12-21",
            "2021-11-08",
            "2021-12-06",
            "2022-01-10",
            "2022-01-01",
            "2021-09-06",
            "2021-11-01",
            "2021-10-16",
            "2021-05-12",
            "2021-09-07",
            "2021-09-21",
            "2021-09-06",
            "2021-08-11",
            "2021-07-15",
            "2021-07-01",
            "2021-06-23",
            "2015-12-05",
            "2015-12-05",
            "2021-06-03",
            "2021-06-01",
            "2019-07-21",
            "2021-05-12",
            "2021-04-04",
            "2015-02-19",
            "2015-02-19",
            "2015-06-26",
            "2020-12-13",
            "2021-02-05",
            "2021-01-19",
            "2021-01-10",
            "2021-01-02",
            "2020-12-19",
            "2007-06-16",
            "2018-06-21",
            "2009-01-04",
            "2020-12-15",
            "2020-11-29",
            "2019-02-13",
            "2020-10-29",
            "2016-04-17",
            "2020-05-14",
            "2012-08-24",
            "2020-08-29",
            "2019-12-07",
            "2009-11-08",
            "2020-01-26",
            "2017-01-13",
            "2017-07-26",
            "2020-02-28",
            "2020-01-09",
            "2020-03-14",
            "2020-03-24",
            "2019-12-19",
            "2016-03-09",
            "2020-07-06",
            "2020-07-03",
            "2016-01-29",
            "2015-03-03",
            "1954-03-12",
            "1965-06-28",
            "1993-06-10",
            "2017-03-05",
            "2019-02-26",
            "2020-02-04",
            "2020-01-08",
            "2020-03-10",
            "2020-03-07",
            "2020-02-15",
            "2020-03-02",
            "2020-03-06",
            "2017-02-13",
            "2015-10-23",
            "2012-12-26",
            "2019-08-24",
            "2020-01-26",
            "2020-01-27",
            "2019-03-27",
            "2019-09-18",
            "2019-10-08",
            "2019-12-30",
            "2014-04-15",
            "2019-08-03",
            "2013-05-23",
            "2019-10-18",
            "2015-10-06",
            "2011-06-22",
            "2019-09-12",
            "2017-07-20",
            "2018-02-16",
            "2019-07-18",
            "2013-05-03",
            "2016-10-19",
            "2013-04-05",
            "2019-07-03",
            "2019-06-16",
            "2019-03-18",
            "2019-04-11",
            "2009-03-31",
            "2019-02-23",
            "2017-03-20",
            "2019-02-23",
            "2013-12-28",
            "2012-01-19",
            "2010-09-12",
            "2012-08-17",
            "2013-03-11",
            "2018-01-16",
            "2017-01-28",
            "2013-12-06",
            "2008-12-25",
            "2017-12-12",
            "2012-08-03",
            "2011-09-27",
            "2017-12-13",
            "2009-03-16",
            "2016-07-16",
            "2002-01-03",
            "2017-05-08",
            "2010-04-06",
            "2014-04-18",
            "2016-07-11",
            "1932-06-01",
            "1932-01-01",
            "1958-06-01",
            "2015-03-02",
            "1963-04-30",
            "1939-03-25",
            "1970-08-05",
            "1964-10-06",
            "2014-02-01",
            "1993-06-10",
            "1954-03-12",
            "1839-01-01",
            "1928-01-01",
            "1839-01-01",
            "1839-01-01",
            "1928-01-01",
            "1839-01-01",
            "1839-01-01",
            "1839-01-01",
            "1967-05-15",
            "1967-02-01",
            "1965-06-28",
            "1963-02-03"
           ]
          ]
         },
         "header": {
          "align": "center",
          "fill": {
           "color": "IndianRed"
          },
          "font": {
           "color": "white",
           "size": 14
          },
          "values": [
           "Especies",
           "Provincia",
           "Localidad",
           "Fecha"
          ]
         },
         "type": "table"
        }
       ],
       "layout": {
        "height": 600,
        "template": {
         "data": {
          "bar": [
           {
            "error_x": {
             "color": "#2a3f5f"
            },
            "error_y": {
             "color": "#2a3f5f"
            },
            "marker": {
             "line": {
              "color": "#E5ECF6",
              "width": 0.5
             },
             "pattern": {
              "fillmode": "overlay",
              "size": 10,
              "solidity": 0.2
             }
            },
            "type": "bar"
           }
          ],
          "barpolar": [
           {
            "marker": {
             "line": {
              "color": "#E5ECF6",
              "width": 0.5
             },
             "pattern": {
              "fillmode": "overlay",
              "size": 10,
              "solidity": 0.2
             }
            },
            "type": "barpolar"
           }
          ],
          "carpet": [
           {
            "aaxis": {
             "endlinecolor": "#2a3f5f",
             "gridcolor": "white",
             "linecolor": "white",
             "minorgridcolor": "white",
             "startlinecolor": "#2a3f5f"
            },
            "baxis": {
             "endlinecolor": "#2a3f5f",
             "gridcolor": "white",
             "linecolor": "white",
             "minorgridcolor": "white",
             "startlinecolor": "#2a3f5f"
            },
            "type": "carpet"
           }
          ],
          "choropleth": [
           {
            "colorbar": {
             "outlinewidth": 0,
             "ticks": ""
            },
            "type": "choropleth"
           }
          ],
          "contour": [
           {
            "colorbar": {
             "outlinewidth": 0,
             "ticks": ""
            },
            "colorscale": [
             [
              0,
              "#0d0887"
             ],
             [
              0.1111111111111111,
              "#46039f"
             ],
             [
              0.2222222222222222,
              "#7201a8"
             ],
             [
              0.3333333333333333,
              "#9c179e"
             ],
             [
              0.4444444444444444,
              "#bd3786"
             ],
             [
              0.5555555555555556,
              "#d8576b"
             ],
             [
              0.6666666666666666,
              "#ed7953"
             ],
             [
              0.7777777777777778,
              "#fb9f3a"
             ],
             [
              0.8888888888888888,
              "#fdca26"
             ],
             [
              1,
              "#f0f921"
             ]
            ],
            "type": "contour"
           }
          ],
          "contourcarpet": [
           {
            "colorbar": {
             "outlinewidth": 0,
             "ticks": ""
            },
            "type": "contourcarpet"
           }
          ],
          "heatmap": [
           {
            "colorbar": {
             "outlinewidth": 0,
             "ticks": ""
            },
            "colorscale": [
             [
              0,
              "#0d0887"
             ],
             [
              0.1111111111111111,
              "#46039f"
             ],
             [
              0.2222222222222222,
              "#7201a8"
             ],
             [
              0.3333333333333333,
              "#9c179e"
             ],
             [
              0.4444444444444444,
              "#bd3786"
             ],
             [
              0.5555555555555556,
              "#d8576b"
             ],
             [
              0.6666666666666666,
              "#ed7953"
             ],
             [
              0.7777777777777778,
              "#fb9f3a"
             ],
             [
              0.8888888888888888,
              "#fdca26"
             ],
             [
              1,
              "#f0f921"
             ]
            ],
            "type": "heatmap"
           }
          ],
          "heatmapgl": [
           {
            "colorbar": {
             "outlinewidth": 0,
             "ticks": ""
            },
            "colorscale": [
             [
              0,
              "#0d0887"
             ],
             [
              0.1111111111111111,
              "#46039f"
             ],
             [
              0.2222222222222222,
              "#7201a8"
             ],
             [
              0.3333333333333333,
              "#9c179e"
             ],
             [
              0.4444444444444444,
              "#bd3786"
             ],
             [
              0.5555555555555556,
              "#d8576b"
             ],
             [
              0.6666666666666666,
              "#ed7953"
             ],
             [
              0.7777777777777778,
              "#fb9f3a"
             ],
             [
              0.8888888888888888,
              "#fdca26"
             ],
             [
              1,
              "#f0f921"
             ]
            ],
            "type": "heatmapgl"
           }
          ],
          "histogram": [
           {
            "marker": {
             "pattern": {
              "fillmode": "overlay",
              "size": 10,
              "solidity": 0.2
             }
            },
            "type": "histogram"
           }
          ],
          "histogram2d": [
           {
            "colorbar": {
             "outlinewidth": 0,
             "ticks": ""
            },
            "colorscale": [
             [
              0,
              "#0d0887"
             ],
             [
              0.1111111111111111,
              "#46039f"
             ],
             [
              0.2222222222222222,
              "#7201a8"
             ],
             [
              0.3333333333333333,
              "#9c179e"
             ],
             [
              0.4444444444444444,
              "#bd3786"
             ],
             [
              0.5555555555555556,
              "#d8576b"
             ],
             [
              0.6666666666666666,
              "#ed7953"
             ],
             [
              0.7777777777777778,
              "#fb9f3a"
             ],
             [
              0.8888888888888888,
              "#fdca26"
             ],
             [
              1,
              "#f0f921"
             ]
            ],
            "type": "histogram2d"
           }
          ],
          "histogram2dcontour": [
           {
            "colorbar": {
             "outlinewidth": 0,
             "ticks": ""
            },
            "colorscale": [
             [
              0,
              "#0d0887"
             ],
             [
              0.1111111111111111,
              "#46039f"
             ],
             [
              0.2222222222222222,
              "#7201a8"
             ],
             [
              0.3333333333333333,
              "#9c179e"
             ],
             [
              0.4444444444444444,
              "#bd3786"
             ],
             [
              0.5555555555555556,
              "#d8576b"
             ],
             [
              0.6666666666666666,
              "#ed7953"
             ],
             [
              0.7777777777777778,
              "#fb9f3a"
             ],
             [
              0.8888888888888888,
              "#fdca26"
             ],
             [
              1,
              "#f0f921"
             ]
            ],
            "type": "histogram2dcontour"
           }
          ],
          "mesh3d": [
           {
            "colorbar": {
             "outlinewidth": 0,
             "ticks": ""
            },
            "type": "mesh3d"
           }
          ],
          "parcoords": [
           {
            "line": {
             "colorbar": {
              "outlinewidth": 0,
              "ticks": ""
             }
            },
            "type": "parcoords"
           }
          ],
          "pie": [
           {
            "automargin": true,
            "type": "pie"
           }
          ],
          "scatter": [
           {
            "fillpattern": {
             "fillmode": "overlay",
             "size": 10,
             "solidity": 0.2
            },
            "type": "scatter"
           }
          ],
          "scatter3d": [
           {
            "line": {
             "colorbar": {
              "outlinewidth": 0,
              "ticks": ""
             }
            },
            "marker": {
             "colorbar": {
              "outlinewidth": 0,
              "ticks": ""
             }
            },
            "type": "scatter3d"
           }
          ],
          "scattercarpet": [
           {
            "marker": {
             "colorbar": {
              "outlinewidth": 0,
              "ticks": ""
             }
            },
            "type": "scattercarpet"
           }
          ],
          "scattergeo": [
           {
            "marker": {
             "colorbar": {
              "outlinewidth": 0,
              "ticks": ""
             }
            },
            "type": "scattergeo"
           }
          ],
          "scattergl": [
           {
            "marker": {
             "colorbar": {
              "outlinewidth": 0,
              "ticks": ""
             }
            },
            "type": "scattergl"
           }
          ],
          "scattermapbox": [
           {
            "marker": {
             "colorbar": {
              "outlinewidth": 0,
              "ticks": ""
             }
            },
            "type": "scattermapbox"
           }
          ],
          "scatterpolar": [
           {
            "marker": {
             "colorbar": {
              "outlinewidth": 0,
              "ticks": ""
             }
            },
            "type": "scatterpolar"
           }
          ],
          "scatterpolargl": [
           {
            "marker": {
             "colorbar": {
              "outlinewidth": 0,
              "ticks": ""
             }
            },
            "type": "scatterpolargl"
           }
          ],
          "scatterternary": [
           {
            "marker": {
             "colorbar": {
              "outlinewidth": 0,
              "ticks": ""
             }
            },
            "type": "scatterternary"
           }
          ],
          "surface": [
           {
            "colorbar": {
             "outlinewidth": 0,
             "ticks": ""
            },
            "colorscale": [
             [
              0,
              "#0d0887"
             ],
             [
              0.1111111111111111,
              "#46039f"
             ],
             [
              0.2222222222222222,
              "#7201a8"
             ],
             [
              0.3333333333333333,
              "#9c179e"
             ],
             [
              0.4444444444444444,
              "#bd3786"
             ],
             [
              0.5555555555555556,
              "#d8576b"
             ],
             [
              0.6666666666666666,
              "#ed7953"
             ],
             [
              0.7777777777777778,
              "#fb9f3a"
             ],
             [
              0.8888888888888888,
              "#fdca26"
             ],
             [
              1,
              "#f0f921"
             ]
            ],
            "type": "surface"
           }
          ],
          "table": [
           {
            "cells": {
             "fill": {
              "color": "#EBF0F8"
             },
             "line": {
              "color": "white"
             }
            },
            "header": {
             "fill": {
              "color": "#C8D4E3"
             },
             "line": {
              "color": "white"
             }
            },
            "type": "table"
           }
          ]
         },
         "layout": {
          "annotationdefaults": {
           "arrowcolor": "#2a3f5f",
           "arrowhead": 0,
           "arrowwidth": 1
          },
          "autotypenumbers": "strict",
          "coloraxis": {
           "colorbar": {
            "outlinewidth": 0,
            "ticks": ""
           }
          },
          "colorscale": {
           "diverging": [
            [
             0,
             "#8e0152"
            ],
            [
             0.1,
             "#c51b7d"
            ],
            [
             0.2,
             "#de77ae"
            ],
            [
             0.3,
             "#f1b6da"
            ],
            [
             0.4,
             "#fde0ef"
            ],
            [
             0.5,
             "#f7f7f7"
            ],
            [
             0.6,
             "#e6f5d0"
            ],
            [
             0.7,
             "#b8e186"
            ],
            [
             0.8,
             "#7fbc41"
            ],
            [
             0.9,
             "#4d9221"
            ],
            [
             1,
             "#276419"
            ]
           ],
           "sequential": [
            [
             0,
             "#0d0887"
            ],
            [
             0.1111111111111111,
             "#46039f"
            ],
            [
             0.2222222222222222,
             "#7201a8"
            ],
            [
             0.3333333333333333,
             "#9c179e"
            ],
            [
             0.4444444444444444,
             "#bd3786"
            ],
            [
             0.5555555555555556,
             "#d8576b"
            ],
            [
             0.6666666666666666,
             "#ed7953"
            ],
            [
             0.7777777777777778,
             "#fb9f3a"
            ],
            [
             0.8888888888888888,
             "#fdca26"
            ],
            [
             1,
             "#f0f921"
            ]
           ],
           "sequentialminus": [
            [
             0,
             "#0d0887"
            ],
            [
             0.1111111111111111,
             "#46039f"
            ],
            [
             0.2222222222222222,
             "#7201a8"
            ],
            [
             0.3333333333333333,
             "#9c179e"
            ],
            [
             0.4444444444444444,
             "#bd3786"
            ],
            [
             0.5555555555555556,
             "#d8576b"
            ],
            [
             0.6666666666666666,
             "#ed7953"
            ],
            [
             0.7777777777777778,
             "#fb9f3a"
            ],
            [
             0.8888888888888888,
             "#fdca26"
            ],
            [
             1,
             "#f0f921"
            ]
           ]
          },
          "colorway": [
           "#636efa",
           "#EF553B",
           "#00cc96",
           "#ab63fa",
           "#FFA15A",
           "#19d3f3",
           "#FF6692",
           "#B6E880",
           "#FF97FF",
           "#FECB52"
          ],
          "font": {
           "color": "#2a3f5f"
          },
          "geo": {
           "bgcolor": "white",
           "lakecolor": "white",
           "landcolor": "#E5ECF6",
           "showlakes": true,
           "showland": true,
           "subunitcolor": "white"
          },
          "hoverlabel": {
           "align": "left"
          },
          "hovermode": "closest",
          "mapbox": {
           "style": "light"
          },
          "paper_bgcolor": "white",
          "plot_bgcolor": "#E5ECF6",
          "polar": {
           "angularaxis": {
            "gridcolor": "white",
            "linecolor": "white",
            "ticks": ""
           },
           "bgcolor": "#E5ECF6",
           "radialaxis": {
            "gridcolor": "white",
            "linecolor": "white",
            "ticks": ""
           }
          },
          "scene": {
           "xaxis": {
            "backgroundcolor": "#E5ECF6",
            "gridcolor": "white",
            "gridwidth": 2,
            "linecolor": "white",
            "showbackground": true,
            "ticks": "",
            "zerolinecolor": "white"
           },
           "yaxis": {
            "backgroundcolor": "#E5ECF6",
            "gridcolor": "white",
            "gridwidth": 2,
            "linecolor": "white",
            "showbackground": true,
            "ticks": "",
            "zerolinecolor": "white"
           },
           "zaxis": {
            "backgroundcolor": "#E5ECF6",
            "gridcolor": "white",
            "gridwidth": 2,
            "linecolor": "white",
            "showbackground": true,
            "ticks": "",
            "zerolinecolor": "white"
           }
          },
          "shapedefaults": {
           "line": {
            "color": "#2a3f5f"
           }
          },
          "ternary": {
           "aaxis": {
            "gridcolor": "white",
            "linecolor": "white",
            "ticks": ""
           },
           "baxis": {
            "gridcolor": "white",
            "linecolor": "white",
            "ticks": ""
           },
           "bgcolor": "#E5ECF6",
           "caxis": {
            "gridcolor": "white",
            "linecolor": "white",
            "ticks": ""
           }
          },
          "title": {
           "x": 0.05
          },
          "xaxis": {
           "automargin": true,
           "gridcolor": "white",
           "linecolor": "white",
           "ticks": "",
           "title": {
            "standoff": 15
           },
           "zerolinecolor": "white",
           "zerolinewidth": 2
          },
          "yaxis": {
           "automargin": true,
           "gridcolor": "white",
           "linecolor": "white",
           "ticks": "",
           "title": {
            "standoff": 15
           },
           "zerolinecolor": "white",
           "zerolinewidth": 2
          }
         }
        },
        "width": 1000
       }
      },
      "text/html": [
       "<div>                            <div id=\"7b422a3d-884c-4cbe-8939-bebd29426473\" class=\"plotly-graph-div\" style=\"height:600px; width:1000px;\"></div>            <script type=\"text/javascript\">                require([\"plotly\"], function(Plotly) {                    window.PLOTLYENV=window.PLOTLYENV || {};                                    if (document.getElementById(\"7b422a3d-884c-4cbe-8939-bebd29426473\")) {                    Plotly.newPlot(                        \"7b422a3d-884c-4cbe-8939-bebd29426473\",                        [{\"cells\":{\"align\":\"center\",\"fill\":{\"color\":\"LightSalmon\"},\"font\":{\"color\":\"black\",\"size\":12},\"values\":[[\"Puma concolor\",\"Panthera onca\",\"Panthera onca\",\"Leopardus tigrinus\",\"Puma yagouaroundi\",\"Leopardus pardalis\",\"Puma yagouaroundi\",\"Puma concolor\",\"Puma concolor\",\"Leopardus pardalis\",\"Puma yagouaroundi\",\"Puma concolor\",\"Puma yagouaroundi\",\"Puma concolor\",\"Leopardus pardalis\",\"Puma concolor\",\"Leopardus pardalis\",\"Panthera onca\",\"Leopardus tigrinus\",\"Puma yagouaroundi\",\"Puma concolor\",\"Puma concolor\",\"Puma yagouaroundi\",\"Panthera onca\",\"Leopardus pardalis\",\"Panthera onca\",\"Puma concolor\",\"Leopardus pardalis\",\"Puma concolor\",\"Leopardus pardalis\",\"Leopardus pardalis\",\"Puma concolor\",\"Leopardus wiedii\",\"Puma concolor\",\"Leopardus pardalis\",\"Leopardus pardalis\",\"Leopardus pardalis\",\"Leopardus wiedii\",\"Leopardus pardalis\",\"Puma concolor\",\"Puma concolor\",\"Puma concolor\",\"Leopardus pardalis\",\"Leopardus pardalis\",\"Leopardus wiedii\",\"Leopardus wiedii\",\"Puma concolor\",\"Leopardus pardalis\",\"Leopardus pardalis\",\"Leopardus pardalis\",\"Puma concolor\",\"Puma concolor\",\"Puma concolor\",\"Puma concolor\",\"Leopardus pardalis\",\"Puma yagouaroundi\",\"Leopardus wiedii\",\"Puma concolor\",\"Leopardus pardalis\",\"Puma yagouaroundi\",\"Puma concolor\",\"Panthera onca\",\"Leopardus wiedii\",\"Leopardus wiedii\",\"Leopardus pardalis\",\"Leopardus pardalis\",\"Leopardus pardalis\",\"Leopardus wiedii\",\"Puma yagouaroundi\",\"Puma concolor\",\"Puma concolor\",\"Puma yagouaroundi\",\"Panthera onca\",\"Leopardus pardalis\",\"Puma concolor\",\"Leopardus pardalis\",\"Leopardus pardalis\",\"Puma concolor\",\"Panthera onca\",\"Puma concolor\",\"Leopardus pardalis\",\"Puma concolor\",\"Leopardus pardalis\",\"Leopardus wiedii\",\"Panthera onca\",\"Puma concolor\",\"Leopardus wiedii\",\"Leopardus pardalis\",\"Panthera onca\",\"Puma concolor\",\"Puma yagouaroundi\",\"Leopardus pardalis\",\"Puma concolor\",\"Leopardus pardalis\",\"Puma concolor\",\"Puma concolor\",\"Leopardus pardalis\",\"Puma concolor\",\"Leopardus pardalis\",\"Puma concolor\",\"Panthera onca\",\"Leopardus pardalis\",\"Puma concolor\",\"Panthera onca\",\"Puma concolor\",\"Panthera onca\",\"Panthera onca\",\"Leopardus pardalis\",\"Panthera onca\",\"Leopardus tigrinus\",\"Panthera onca\",\"Leopardus pardalis\",\"Panthera onca\",\"Panthera onca\",\"Puma yagouaroundi\",\"Puma concolor\",\"Puma concolor\",\"Leopardus pardalis\",\"Panthera onca\",\"Leopardus wiedii\",\"Panthera onca\",\"Leopardus pardalis\",\"Puma concolor\",\"Panthera onca\",\"Leopardus pardalis\",\"Panthera onca\",\"Leopardus wiedii\",\"Puma concolor\",\"Leopardus wiedii\",\"Panthera onca\",\"Leopardus pardalis\",\"Puma concolor\",\"Leopardus wiedii\",\"Puma concolor\",\"Puma concolor\",\"Leopardus pardalis\",\"Leopardus pardalis\",\"Leopardus wiedii\",\"Puma concolor\",\"Puma concolor\",\"Leopardus pardalis\",\"Panthera onca\",\"Panthera onca\",\"Leopardus pardalis\",\"Leopardus pardalis\",\"Leopardus pardalis\",\"Leopardus pardalis\",\"Leopardus pardalis\",\"Leopardus pardalis\",\"Leopardus pardalis\",\"Leopardus pardalis\",\"Leopardus pardalis\",\"Leopardus wiedii\",\"Leopardus pardalis\",\"Puma concolor\",\"Puma concolor\",\"Leopardus pardalis\",\"Leopardus pardalis\",\"Panthera onca\",\"Leopardus wiedii\",\"Leopardus pardalis\",\"Leopardus pardalis\",\"Leopardus pardalis\",\"Leopardus pardalis\",\"Leopardus pardalis\",\"Leopardus pardalis\",\"Leopardus wiedii\",\"Leopardus pardalis\",\"Leopardus tigrinus\",\"Leopardus tigrinus\",\"Leopardus pardalis\",\"Leopardus pardalis\"],[\"Puntarenas\",\"Lim\\u00f3n\",\"Guanacaste\",\"Guanacaste\",\"Puntarenas\",\"Puntarenas\",\"Puntarenas\",\"Puntarenas\",\"Heredia\",\"Puntarenas\",\"Puntarenas\",\"Puntarenas\",\"Puntarenas\",\"Guanacaste\",\"Puntarenas\",\"Puntarenas\",\"Puntarenas\",\"Guanacaste\",\"Alajuela\",\"Guanacaste\",\"Puntarenas\",\"Puntarenas\",\"Puntarenas\",\"Lim\\u00f3n\",\"Alajuela\",\"Guanacaste\",\"Puntarenas\",\"Alajuela\",\"Puntarenas\",\"Alajuela\",\"Puntarenas\",\"Puntarenas\",\"Guanacaste\",\"Puntarenas\",\"Puntarenas\",\"Guanacaste\",\"Puntarenas\",\"Puntarenas\",\"Guanacaste\",\"Puntarenas\",\"Puntarenas\",\"Puntarenas\",\"Alajuela\",\"Alajuela\",\"Alajuela\",\"Alajuela\",\"Guanacaste\",\"Puntarenas\",\"Puntarenas\",\"Guanacaste\",\"Alajuela\",\"Puntarenas\",\"Puntarenas\",\"Puntarenas\",\"Lim\\u00f3n\",\"Guanacaste\",\"Alajuela\",\"Puntarenas\",\"Puntarenas\",\"Puntarenas\",\"Guanacaste\",\"Heredia\",\"Alajuela\",\"Alajuela\",\"Lim\\u00f3n\",\"Lim\\u00f3n\",\"Alajuela\",\"Puntarenas\",\"Guanacaste\",\"Heredia\",\"Puntarenas\",\"Puntarenas\",\"Puntarenas\",\"Puntarenas\",\"Puntarenas\",\"Puntarenas\",\"Puntarenas\",\"Puntarenas\",\"Puntarenas\",\"Puntarenas\",\"Puntarenas\",\"Heredia\",\"Puntarenas\",\"San Jos\\u00e9\",\"Lim\\u00f3n\",\"Heredia\",\"Guanacaste\",\"Puntarenas\",\"Alajuela\",\"Puntarenas\",\"Puntarenas\",\"Puntarenas\",\"San Jos\\u00e9\",\"Cartago\",\"Alajuela\",\"Puntarenas\",\"Lim\\u00f3n\",\"Puntarenas\",\"Puntarenas\",\"Guanacaste\",\"Guanacaste\",\"Guanacaste\",\"Puntarenas\",\"Lim\\u00f3n\",\"Puntarenas\",\"Guanacaste\",\"Lim\\u00f3n\",\"Puntarenas\",\"Lim\\u00f3n\",\"Puntarenas\",\"Lim\\u00f3n\",\"Guanacaste\",\"Puntarenas\",\"Lim\\u00f3n\",\"Alajuela\",\"San Jos\\u00e9\",\"Guanacaste\",\"Guanacaste\",\"Lim\\u00f3n\",\"Alajuela\",\"Lim\\u00f3n\",\"Puntarenas\",\"Alajuela\",\"Lim\\u00f3n\",\"Puntarenas\",\"Lim\\u00f3n\",\"Puntarenas\",\"Puntarenas\",\"Puntarenas\",\"Guanacaste\",\"Puntarenas\",\"Heredia\",\"Puntarenas\",\"Heredia\",\"Puntarenas\",\"Puntarenas\",\"Alajuela\",\"Alajuela\",\"Puntarenas\",\"Puntarenas\",\"Puntarenas\",\"Puntarenas\",\"Heredia\",\"Heredia\",\"Guanacaste\",\"Puntarenas\",\"Heredia\",\"Lim\\u00f3n\",\"Heredia\",\"San Jose\",\"San Jose\",\"Limon\",\"Alajuela\",\"Guanacaste Prov\",\"Guanacaste Prov\",\"Puntarenas Prov\",\"Puntarenas Prov\",\"Lim\\u00f3n\",\"Alajuela\",\"Guanacaste\",\"Lim\\u00f3n\",\"Cartago\",\"Lim\\u00f3n\",\"Lim\\u00f3n\",\"Cartago\",\"Lim\\u00f3n\",\"Lim\\u00f3n\",\"Lim\\u00f3n\",\"San Jos\\u00e9 Province\",\"San Jos\\u00e9 Province\",\"Puntarenas Province\",\"Puntarenas Province\"],[null,null,null,null,null,null,null,null,null,null,null,null,null,null,null,null,null,null,null,null,null,null,null,null,null,null,null,null,null,null,null,null,null,null,null,null,null,null,null,null,null,null,null,null,null,null,null,null,null,null,null,null,null,null,null,null,null,null,null,null,null,null,null,null,null,null,null,null,null,null,null,null,null,null,null,null,null,null,null,null,null,null,null,null,null,null,\"FILADELFIA, 7 MI SW OF\",\"14 km NE Potrero Grande\",\"DELICIAS DE UPALA, 2 KM N OF\",null,null,null,null,null,null,null,null,null,null,null,null,null,null,null,null,null,null,null,null,null,null,null,null,null,null,null,null,null,null,null,null,null,null,null,null,null,null,null,null,null,null,null,null,null,null,null,null,null,null,null,null,null,null,null,\"[no specific locality data]\",null,null,null,null,\"vicinity of San Isidro del General\",\"vicinity of San Jose\",null,null,\"San Juan San Juan de Santa Cruz\",\"Port Parker/ Gulf of Santa Elena Port Parker\",\"Rincon Rincon de Osa\",\"Potrero Grande Potrero Grande, 25 km E\",null,\"DELICIAS DE UPALA, 2 KM N OF\",\"FILADELFIA, 7 MI SW OF\",\"Talamanca\",\"Turrialba\",\"Talamanca\",\"Talamanca\",\"Turrialba\",\"Talamanca\",\"Talamanca\",\"Talamanca\",\"Ca. 4 km SW Cerro Chirripo\",\"La Piedra\",\"14 km NE Potrero Grande\",\"Gromaco, 15 km ESE Potrero Grande\"],[\"2022-04-22\",\"2022-10-09\",\"2022-09-28\",\"2018-02-19\",\"2022-01-23\",\"2022-08-28\",\"2019-03-22\",\"2022-06-13\",\"2022-07-07\",\"2022-08-02\",\"2022-08-02\",\"2022-08-02\",\"2022-07-08\",\"2022-07-21\",\"2022-05-05\",\"2013-02-28\",\"2016-04-01\",\"2022-05-22\",\"2022-02-13\",\"2022-05-04\",\"2022-04-08\",\"2022-04-22\",\"2021-01-06\",\"2022-04-12\",\"2022-02-24\",\"2011-02-15\",\"2021-12-30\",\"2022-02-01\",\"2021-12-21\",\"2021-11-08\",\"2021-12-06\",\"2022-01-10\",\"2022-01-01\",\"2021-09-06\",\"2021-11-01\",\"2021-10-16\",\"2021-05-12\",\"2021-09-07\",\"2021-09-21\",\"2021-09-06\",\"2021-08-11\",\"2021-07-15\",\"2021-07-01\",\"2021-06-23\",\"2015-12-05\",\"2015-12-05\",\"2021-06-03\",\"2021-06-01\",\"2019-07-21\",\"2021-05-12\",\"2021-04-04\",\"2015-02-19\",\"2015-02-19\",\"2015-06-26\",\"2020-12-13\",\"2021-02-05\",\"2021-01-19\",\"2021-01-10\",\"2021-01-02\",\"2020-12-19\",\"2007-06-16\",\"2018-06-21\",\"2009-01-04\",\"2020-12-15\",\"2020-11-29\",\"2019-02-13\",\"2020-10-29\",\"2016-04-17\",\"2020-05-14\",\"2012-08-24\",\"2020-08-29\",\"2019-12-07\",\"2009-11-08\",\"2020-01-26\",\"2017-01-13\",\"2017-07-26\",\"2020-02-28\",\"2020-01-09\",\"2020-03-14\",\"2020-03-24\",\"2019-12-19\",\"2016-03-09\",\"2020-07-06\",\"2020-07-03\",\"2016-01-29\",\"2015-03-03\",\"1954-03-12\",\"1965-06-28\",\"1993-06-10\",\"2017-03-05\",\"2019-02-26\",\"2020-02-04\",\"2020-01-08\",\"2020-03-10\",\"2020-03-07\",\"2020-02-15\",\"2020-03-02\",\"2020-03-06\",\"2017-02-13\",\"2015-10-23\",\"2012-12-26\",\"2019-08-24\",\"2020-01-26\",\"2020-01-27\",\"2019-03-27\",\"2019-09-18\",\"2019-10-08\",\"2019-12-30\",\"2014-04-15\",\"2019-08-03\",\"2013-05-23\",\"2019-10-18\",\"2015-10-06\",\"2011-06-22\",\"2019-09-12\",\"2017-07-20\",\"2018-02-16\",\"2019-07-18\",\"2013-05-03\",\"2016-10-19\",\"2013-04-05\",\"2019-07-03\",\"2019-06-16\",\"2019-03-18\",\"2019-04-11\",\"2009-03-31\",\"2019-02-23\",\"2017-03-20\",\"2019-02-23\",\"2013-12-28\",\"2012-01-19\",\"2010-09-12\",\"2012-08-17\",\"2013-03-11\",\"2018-01-16\",\"2017-01-28\",\"2013-12-06\",\"2008-12-25\",\"2017-12-12\",\"2012-08-03\",\"2011-09-27\",\"2017-12-13\",\"2009-03-16\",\"2016-07-16\",\"2002-01-03\",\"2017-05-08\",\"2010-04-06\",\"2014-04-18\",\"2016-07-11\",\"1932-06-01\",\"1932-01-01\",\"1958-06-01\",\"2015-03-02\",\"1963-04-30\",\"1939-03-25\",\"1970-08-05\",\"1964-10-06\",\"2014-02-01\",\"1993-06-10\",\"1954-03-12\",\"1839-01-01\",\"1928-01-01\",\"1839-01-01\",\"1839-01-01\",\"1928-01-01\",\"1839-01-01\",\"1839-01-01\",\"1839-01-01\",\"1967-05-15\",\"1967-02-01\",\"1965-06-28\",\"1963-02-03\"]]},\"header\":{\"align\":\"center\",\"fill\":{\"color\":\"IndianRed\"},\"font\":{\"color\":\"white\",\"size\":14},\"values\":[\"Especies\",\"Provincia\",\"Localidad\",\"Fecha\"]},\"type\":\"table\"}],                        {\"template\":{\"data\":{\"histogram2dcontour\":[{\"type\":\"histogram2dcontour\",\"colorbar\":{\"outlinewidth\":0,\"ticks\":\"\"},\"colorscale\":[[0.0,\"#0d0887\"],[0.1111111111111111,\"#46039f\"],[0.2222222222222222,\"#7201a8\"],[0.3333333333333333,\"#9c179e\"],[0.4444444444444444,\"#bd3786\"],[0.5555555555555556,\"#d8576b\"],[0.6666666666666666,\"#ed7953\"],[0.7777777777777778,\"#fb9f3a\"],[0.8888888888888888,\"#fdca26\"],[1.0,\"#f0f921\"]]}],\"choropleth\":[{\"type\":\"choropleth\",\"colorbar\":{\"outlinewidth\":0,\"ticks\":\"\"}}],\"histogram2d\":[{\"type\":\"histogram2d\",\"colorbar\":{\"outlinewidth\":0,\"ticks\":\"\"},\"colorscale\":[[0.0,\"#0d0887\"],[0.1111111111111111,\"#46039f\"],[0.2222222222222222,\"#7201a8\"],[0.3333333333333333,\"#9c179e\"],[0.4444444444444444,\"#bd3786\"],[0.5555555555555556,\"#d8576b\"],[0.6666666666666666,\"#ed7953\"],[0.7777777777777778,\"#fb9f3a\"],[0.8888888888888888,\"#fdca26\"],[1.0,\"#f0f921\"]]}],\"heatmap\":[{\"type\":\"heatmap\",\"colorbar\":{\"outlinewidth\":0,\"ticks\":\"\"},\"colorscale\":[[0.0,\"#0d0887\"],[0.1111111111111111,\"#46039f\"],[0.2222222222222222,\"#7201a8\"],[0.3333333333333333,\"#9c179e\"],[0.4444444444444444,\"#bd3786\"],[0.5555555555555556,\"#d8576b\"],[0.6666666666666666,\"#ed7953\"],[0.7777777777777778,\"#fb9f3a\"],[0.8888888888888888,\"#fdca26\"],[1.0,\"#f0f921\"]]}],\"heatmapgl\":[{\"type\":\"heatmapgl\",\"colorbar\":{\"outlinewidth\":0,\"ticks\":\"\"},\"colorscale\":[[0.0,\"#0d0887\"],[0.1111111111111111,\"#46039f\"],[0.2222222222222222,\"#7201a8\"],[0.3333333333333333,\"#9c179e\"],[0.4444444444444444,\"#bd3786\"],[0.5555555555555556,\"#d8576b\"],[0.6666666666666666,\"#ed7953\"],[0.7777777777777778,\"#fb9f3a\"],[0.8888888888888888,\"#fdca26\"],[1.0,\"#f0f921\"]]}],\"contourcarpet\":[{\"type\":\"contourcarpet\",\"colorbar\":{\"outlinewidth\":0,\"ticks\":\"\"}}],\"contour\":[{\"type\":\"contour\",\"colorbar\":{\"outlinewidth\":0,\"ticks\":\"\"},\"colorscale\":[[0.0,\"#0d0887\"],[0.1111111111111111,\"#46039f\"],[0.2222222222222222,\"#7201a8\"],[0.3333333333333333,\"#9c179e\"],[0.4444444444444444,\"#bd3786\"],[0.5555555555555556,\"#d8576b\"],[0.6666666666666666,\"#ed7953\"],[0.7777777777777778,\"#fb9f3a\"],[0.8888888888888888,\"#fdca26\"],[1.0,\"#f0f921\"]]}],\"surface\":[{\"type\":\"surface\",\"colorbar\":{\"outlinewidth\":0,\"ticks\":\"\"},\"colorscale\":[[0.0,\"#0d0887\"],[0.1111111111111111,\"#46039f\"],[0.2222222222222222,\"#7201a8\"],[0.3333333333333333,\"#9c179e\"],[0.4444444444444444,\"#bd3786\"],[0.5555555555555556,\"#d8576b\"],[0.6666666666666666,\"#ed7953\"],[0.7777777777777778,\"#fb9f3a\"],[0.8888888888888888,\"#fdca26\"],[1.0,\"#f0f921\"]]}],\"mesh3d\":[{\"type\":\"mesh3d\",\"colorbar\":{\"outlinewidth\":0,\"ticks\":\"\"}}],\"scatter\":[{\"fillpattern\":{\"fillmode\":\"overlay\",\"size\":10,\"solidity\":0.2},\"type\":\"scatter\"}],\"parcoords\":[{\"type\":\"parcoords\",\"line\":{\"colorbar\":{\"outlinewidth\":0,\"ticks\":\"\"}}}],\"scatterpolargl\":[{\"type\":\"scatterpolargl\",\"marker\":{\"colorbar\":{\"outlinewidth\":0,\"ticks\":\"\"}}}],\"bar\":[{\"error_x\":{\"color\":\"#2a3f5f\"},\"error_y\":{\"color\":\"#2a3f5f\"},\"marker\":{\"line\":{\"color\":\"#E5ECF6\",\"width\":0.5},\"pattern\":{\"fillmode\":\"overlay\",\"size\":10,\"solidity\":0.2}},\"type\":\"bar\"}],\"scattergeo\":[{\"type\":\"scattergeo\",\"marker\":{\"colorbar\":{\"outlinewidth\":0,\"ticks\":\"\"}}}],\"scatterpolar\":[{\"type\":\"scatterpolar\",\"marker\":{\"colorbar\":{\"outlinewidth\":0,\"ticks\":\"\"}}}],\"histogram\":[{\"marker\":{\"pattern\":{\"fillmode\":\"overlay\",\"size\":10,\"solidity\":0.2}},\"type\":\"histogram\"}],\"scattergl\":[{\"type\":\"scattergl\",\"marker\":{\"colorbar\":{\"outlinewidth\":0,\"ticks\":\"\"}}}],\"scatter3d\":[{\"type\":\"scatter3d\",\"line\":{\"colorbar\":{\"outlinewidth\":0,\"ticks\":\"\"}},\"marker\":{\"colorbar\":{\"outlinewidth\":0,\"ticks\":\"\"}}}],\"scattermapbox\":[{\"type\":\"scattermapbox\",\"marker\":{\"colorbar\":{\"outlinewidth\":0,\"ticks\":\"\"}}}],\"scatterternary\":[{\"type\":\"scatterternary\",\"marker\":{\"colorbar\":{\"outlinewidth\":0,\"ticks\":\"\"}}}],\"scattercarpet\":[{\"type\":\"scattercarpet\",\"marker\":{\"colorbar\":{\"outlinewidth\":0,\"ticks\":\"\"}}}],\"carpet\":[{\"aaxis\":{\"endlinecolor\":\"#2a3f5f\",\"gridcolor\":\"white\",\"linecolor\":\"white\",\"minorgridcolor\":\"white\",\"startlinecolor\":\"#2a3f5f\"},\"baxis\":{\"endlinecolor\":\"#2a3f5f\",\"gridcolor\":\"white\",\"linecolor\":\"white\",\"minorgridcolor\":\"white\",\"startlinecolor\":\"#2a3f5f\"},\"type\":\"carpet\"}],\"table\":[{\"cells\":{\"fill\":{\"color\":\"#EBF0F8\"},\"line\":{\"color\":\"white\"}},\"header\":{\"fill\":{\"color\":\"#C8D4E3\"},\"line\":{\"color\":\"white\"}},\"type\":\"table\"}],\"barpolar\":[{\"marker\":{\"line\":{\"color\":\"#E5ECF6\",\"width\":0.5},\"pattern\":{\"fillmode\":\"overlay\",\"size\":10,\"solidity\":0.2}},\"type\":\"barpolar\"}],\"pie\":[{\"automargin\":true,\"type\":\"pie\"}]},\"layout\":{\"autotypenumbers\":\"strict\",\"colorway\":[\"#636efa\",\"#EF553B\",\"#00cc96\",\"#ab63fa\",\"#FFA15A\",\"#19d3f3\",\"#FF6692\",\"#B6E880\",\"#FF97FF\",\"#FECB52\"],\"font\":{\"color\":\"#2a3f5f\"},\"hovermode\":\"closest\",\"hoverlabel\":{\"align\":\"left\"},\"paper_bgcolor\":\"white\",\"plot_bgcolor\":\"#E5ECF6\",\"polar\":{\"bgcolor\":\"#E5ECF6\",\"angularaxis\":{\"gridcolor\":\"white\",\"linecolor\":\"white\",\"ticks\":\"\"},\"radialaxis\":{\"gridcolor\":\"white\",\"linecolor\":\"white\",\"ticks\":\"\"}},\"ternary\":{\"bgcolor\":\"#E5ECF6\",\"aaxis\":{\"gridcolor\":\"white\",\"linecolor\":\"white\",\"ticks\":\"\"},\"baxis\":{\"gridcolor\":\"white\",\"linecolor\":\"white\",\"ticks\":\"\"},\"caxis\":{\"gridcolor\":\"white\",\"linecolor\":\"white\",\"ticks\":\"\"}},\"coloraxis\":{\"colorbar\":{\"outlinewidth\":0,\"ticks\":\"\"}},\"colorscale\":{\"sequential\":[[0.0,\"#0d0887\"],[0.1111111111111111,\"#46039f\"],[0.2222222222222222,\"#7201a8\"],[0.3333333333333333,\"#9c179e\"],[0.4444444444444444,\"#bd3786\"],[0.5555555555555556,\"#d8576b\"],[0.6666666666666666,\"#ed7953\"],[0.7777777777777778,\"#fb9f3a\"],[0.8888888888888888,\"#fdca26\"],[1.0,\"#f0f921\"]],\"sequentialminus\":[[0.0,\"#0d0887\"],[0.1111111111111111,\"#46039f\"],[0.2222222222222222,\"#7201a8\"],[0.3333333333333333,\"#9c179e\"],[0.4444444444444444,\"#bd3786\"],[0.5555555555555556,\"#d8576b\"],[0.6666666666666666,\"#ed7953\"],[0.7777777777777778,\"#fb9f3a\"],[0.8888888888888888,\"#fdca26\"],[1.0,\"#f0f921\"]],\"diverging\":[[0,\"#8e0152\"],[0.1,\"#c51b7d\"],[0.2,\"#de77ae\"],[0.3,\"#f1b6da\"],[0.4,\"#fde0ef\"],[0.5,\"#f7f7f7\"],[0.6,\"#e6f5d0\"],[0.7,\"#b8e186\"],[0.8,\"#7fbc41\"],[0.9,\"#4d9221\"],[1,\"#276419\"]]},\"xaxis\":{\"gridcolor\":\"white\",\"linecolor\":\"white\",\"ticks\":\"\",\"title\":{\"standoff\":15},\"zerolinecolor\":\"white\",\"automargin\":true,\"zerolinewidth\":2},\"yaxis\":{\"gridcolor\":\"white\",\"linecolor\":\"white\",\"ticks\":\"\",\"title\":{\"standoff\":15},\"zerolinecolor\":\"white\",\"automargin\":true,\"zerolinewidth\":2},\"scene\":{\"xaxis\":{\"backgroundcolor\":\"#E5ECF6\",\"gridcolor\":\"white\",\"linecolor\":\"white\",\"showbackground\":true,\"ticks\":\"\",\"zerolinecolor\":\"white\",\"gridwidth\":2},\"yaxis\":{\"backgroundcolor\":\"#E5ECF6\",\"gridcolor\":\"white\",\"linecolor\":\"white\",\"showbackground\":true,\"ticks\":\"\",\"zerolinecolor\":\"white\",\"gridwidth\":2},\"zaxis\":{\"backgroundcolor\":\"#E5ECF6\",\"gridcolor\":\"white\",\"linecolor\":\"white\",\"showbackground\":true,\"ticks\":\"\",\"zerolinecolor\":\"white\",\"gridwidth\":2}},\"shapedefaults\":{\"line\":{\"color\":\"#2a3f5f\"}},\"annotationdefaults\":{\"arrowcolor\":\"#2a3f5f\",\"arrowhead\":0,\"arrowwidth\":1},\"geo\":{\"bgcolor\":\"white\",\"landcolor\":\"#E5ECF6\",\"subunitcolor\":\"white\",\"showland\":true,\"showlakes\":true,\"lakecolor\":\"white\"},\"title\":{\"x\":0.05},\"mapbox\":{\"style\":\"light\"}}},\"width\":1000,\"height\":600},                        {\"responsive\": true}                    ).then(function(){\n",
       "                            \n",
       "var gd = document.getElementById('7b422a3d-884c-4cbe-8939-bebd29426473');\n",
       "var x = new MutationObserver(function (mutations, observer) {{\n",
       "        var display = window.getComputedStyle(gd).display;\n",
       "        if (!display || display === 'none') {{\n",
       "            console.log([gd, 'removed!']);\n",
       "            Plotly.purge(gd);\n",
       "            observer.disconnect();\n",
       "        }}\n",
       "}});\n",
       "\n",
       "// Listen for the removal of the full notebook cells\n",
       "var notebookContainer = gd.closest('#notebook-container');\n",
       "if (notebookContainer) {{\n",
       "    x.observe(notebookContainer, {childList: true});\n",
       "}}\n",
       "\n",
       "// Listen for the clearing of the current output cell\n",
       "var outputEl = gd.closest('.output');\n",
       "if (outputEl) {{\n",
       "    x.observe(outputEl, {childList: true});\n",
       "}}\n",
       "\n",
       "                        })                };                });            </script>        </div>"
      ]
     },
     "metadata": {},
     "output_type": "display_data"
    }
   ],
   "source": [
    "#Se crea la tabla de datos de felinos\n",
    "tabla_feli = go.Figure(data=[go.Table(\n",
    "    header=dict(values=list(felinos_datos.columns),\n",
    "                fill_color='IndianRed',\n",
    "                font = dict(color = 'white', size = 14),\n",
    "                align='center'),\n",
    "    cells=dict(values=[felinos_datos.Especies,\n",
    "                       felinos_datos.Provincia, \n",
    "                       felinos_datos.Localidad, \n",
    "                       felinos_datos.Fecha],\n",
    "               fill_color='LightSalmon',\n",
    "               font = dict(color = 'black', size = 12), \n",
    "               align='center')) ])\n",
    "\n",
    "tabla_feli.update_layout(width=1000, height=600)\n",
    "\n",
    "\n",
    "tabla_feli.show()"
   ]
  },
  {
   "cell_type": "markdown",
   "id": "ee7877c9",
   "metadata": {},
   "source": [
    "## Datos para gráfico sunburst"
   ]
  },
  {
   "cell_type": "code",
   "execution_count": 19,
   "id": "c764f727",
   "metadata": {},
   "outputs": [
    {
     "data": {
      "text/html": [
       "<div>\n",
       "<style scoped>\n",
       "    .dataframe tbody tr th:only-of-type {\n",
       "        vertical-align: middle;\n",
       "    }\n",
       "\n",
       "    .dataframe tbody tr th {\n",
       "        vertical-align: top;\n",
       "    }\n",
       "\n",
       "    .dataframe thead th {\n",
       "        text-align: right;\n",
       "    }\n",
       "</style>\n",
       "<table border=\"1\" class=\"dataframe\">\n",
       "  <thead>\n",
       "    <tr style=\"text-align: right;\">\n",
       "      <th></th>\n",
       "      <th>Especies</th>\n",
       "      <th>Genero</th>\n",
       "      <th>id</th>\n",
       "    </tr>\n",
       "  </thead>\n",
       "  <tbody>\n",
       "    <tr>\n",
       "      <th>0</th>\n",
       "      <td>Puma concolor</td>\n",
       "      <td>Puma</td>\n",
       "      <td>PRESENT</td>\n",
       "    </tr>\n",
       "    <tr>\n",
       "      <th>1</th>\n",
       "      <td>Panthera onca</td>\n",
       "      <td>Panthera</td>\n",
       "      <td>PRESENT</td>\n",
       "    </tr>\n",
       "    <tr>\n",
       "      <th>2</th>\n",
       "      <td>Panthera onca</td>\n",
       "      <td>Panthera</td>\n",
       "      <td>PRESENT</td>\n",
       "    </tr>\n",
       "    <tr>\n",
       "      <th>3</th>\n",
       "      <td>Leopardus tigrinus</td>\n",
       "      <td>Leopardus</td>\n",
       "      <td>PRESENT</td>\n",
       "    </tr>\n",
       "    <tr>\n",
       "      <th>4</th>\n",
       "      <td>Puma yagouaroundi</td>\n",
       "      <td>Puma</td>\n",
       "      <td>PRESENT</td>\n",
       "    </tr>\n",
       "    <tr>\n",
       "      <th>...</th>\n",
       "      <td>...</td>\n",
       "      <td>...</td>\n",
       "      <td>...</td>\n",
       "    </tr>\n",
       "    <tr>\n",
       "      <th>185</th>\n",
       "      <td>Puma concolor</td>\n",
       "      <td>Puma</td>\n",
       "      <td>PRESENT</td>\n",
       "    </tr>\n",
       "    <tr>\n",
       "      <th>186</th>\n",
       "      <td>Leopardus tigrinus</td>\n",
       "      <td>Leopardus</td>\n",
       "      <td>PRESENT</td>\n",
       "    </tr>\n",
       "    <tr>\n",
       "      <th>187</th>\n",
       "      <td>Leopardus tigrinus</td>\n",
       "      <td>Leopardus</td>\n",
       "      <td>PRESENT</td>\n",
       "    </tr>\n",
       "    <tr>\n",
       "      <th>188</th>\n",
       "      <td>Leopardus pardalis</td>\n",
       "      <td>Leopardus</td>\n",
       "      <td>PRESENT</td>\n",
       "    </tr>\n",
       "    <tr>\n",
       "      <th>189</th>\n",
       "      <td>Leopardus pardalis</td>\n",
       "      <td>Leopardus</td>\n",
       "      <td>PRESENT</td>\n",
       "    </tr>\n",
       "  </tbody>\n",
       "</table>\n",
       "<p>190 rows × 3 columns</p>\n",
       "</div>"
      ],
      "text/plain": [
       "               Especies     Genero       id\n",
       "0         Puma concolor       Puma  PRESENT\n",
       "1         Panthera onca   Panthera  PRESENT\n",
       "2         Panthera onca   Panthera  PRESENT\n",
       "3    Leopardus tigrinus  Leopardus  PRESENT\n",
       "4     Puma yagouaroundi       Puma  PRESENT\n",
       "..                  ...        ...      ...\n",
       "185       Puma concolor       Puma  PRESENT\n",
       "186  Leopardus tigrinus  Leopardus  PRESENT\n",
       "187  Leopardus tigrinus  Leopardus  PRESENT\n",
       "188  Leopardus pardalis  Leopardus  PRESENT\n",
       "189  Leopardus pardalis  Leopardus  PRESENT\n",
       "\n",
       "[190 rows x 3 columns]"
      ]
     },
     "execution_count": 19,
     "metadata": {},
     "output_type": "execute_result"
    }
   ],
   "source": [
    "# Datos de felinos de especie, provincia, localidad, fecha\n",
    "felinos_genero_especie = felinos[[\"species\", \"genus\", \"occurrenceStatus\"]]\n",
    "\n",
    "# Se cambia los nombres de las columnas\n",
    "felinos_genero_especie = felinos_genero_especie.rename(columns={\"species\": \"Especies\",\n",
    "                                                 \"genus\": \"Genero\",\n",
    "                                                  \"occurrenceStatus\" :\"id\"})\n",
    "\n",
    "felinos_genero_especie"
   ]
  },
  {
   "cell_type": "markdown",
   "id": "2c500cd3",
   "metadata": {},
   "source": [
    "## Se crea el grafico Sunburst"
   ]
  },
  {
   "cell_type": "code",
   "execution_count": 21,
   "id": "cc66f4d6",
   "metadata": {},
   "outputs": [
    {
     "data": {
      "application/vnd.plotly.v1+json": {
       "config": {
        "plotlyServerURL": "https://plot.ly"
       },
       "data": [
        {
         "branchvalues": "total",
         "domain": {
          "x": [
           0,
           1
          ],
          "y": [
           0,
           1
          ]
         },
         "hovertemplate": "labels=%{label}<br>count=%{value}<br>parent=%{parent}<br>id=%{id}<extra></extra>",
         "ids": [
          "Leopardus/Leopardus pardalis",
          "Leopardus/Leopardus tigrinus",
          "Leopardus/Leopardus wiedii",
          "Panthera/Panthera onca",
          "Puma/Puma concolor",
          "Puma/Puma yagouaroundi",
          "Leopardus",
          "Panthera",
          "Puma"
         ],
         "labels": [
          "Leopardus pardalis",
          "Leopardus tigrinus",
          "Leopardus wiedii",
          "Panthera onca",
          "Puma concolor",
          "Puma yagouaroundi",
          "Leopardus",
          "Panthera",
          "Puma"
         ],
         "name": "",
         "parents": [
          "Leopardus",
          "Leopardus",
          "Leopardus",
          "Panthera",
          "Puma",
          "Puma",
          "",
          "",
          ""
         ],
         "type": "sunburst",
         "values": [
          67,
          6,
          22,
          27,
          54,
          14,
          95,
          27,
          68
         ]
        }
       ],
       "layout": {
        "legend": {
         "tracegroupgap": 0
        },
        "template": {
         "data": {
          "bar": [
           {
            "error_x": {
             "color": "#2a3f5f"
            },
            "error_y": {
             "color": "#2a3f5f"
            },
            "marker": {
             "line": {
              "color": "#E5ECF6",
              "width": 0.5
             },
             "pattern": {
              "fillmode": "overlay",
              "size": 10,
              "solidity": 0.2
             }
            },
            "type": "bar"
           }
          ],
          "barpolar": [
           {
            "marker": {
             "line": {
              "color": "#E5ECF6",
              "width": 0.5
             },
             "pattern": {
              "fillmode": "overlay",
              "size": 10,
              "solidity": 0.2
             }
            },
            "type": "barpolar"
           }
          ],
          "carpet": [
           {
            "aaxis": {
             "endlinecolor": "#2a3f5f",
             "gridcolor": "white",
             "linecolor": "white",
             "minorgridcolor": "white",
             "startlinecolor": "#2a3f5f"
            },
            "baxis": {
             "endlinecolor": "#2a3f5f",
             "gridcolor": "white",
             "linecolor": "white",
             "minorgridcolor": "white",
             "startlinecolor": "#2a3f5f"
            },
            "type": "carpet"
           }
          ],
          "choropleth": [
           {
            "colorbar": {
             "outlinewidth": 0,
             "ticks": ""
            },
            "type": "choropleth"
           }
          ],
          "contour": [
           {
            "colorbar": {
             "outlinewidth": 0,
             "ticks": ""
            },
            "colorscale": [
             [
              0,
              "#0d0887"
             ],
             [
              0.1111111111111111,
              "#46039f"
             ],
             [
              0.2222222222222222,
              "#7201a8"
             ],
             [
              0.3333333333333333,
              "#9c179e"
             ],
             [
              0.4444444444444444,
              "#bd3786"
             ],
             [
              0.5555555555555556,
              "#d8576b"
             ],
             [
              0.6666666666666666,
              "#ed7953"
             ],
             [
              0.7777777777777778,
              "#fb9f3a"
             ],
             [
              0.8888888888888888,
              "#fdca26"
             ],
             [
              1,
              "#f0f921"
             ]
            ],
            "type": "contour"
           }
          ],
          "contourcarpet": [
           {
            "colorbar": {
             "outlinewidth": 0,
             "ticks": ""
            },
            "type": "contourcarpet"
           }
          ],
          "heatmap": [
           {
            "colorbar": {
             "outlinewidth": 0,
             "ticks": ""
            },
            "colorscale": [
             [
              0,
              "#0d0887"
             ],
             [
              0.1111111111111111,
              "#46039f"
             ],
             [
              0.2222222222222222,
              "#7201a8"
             ],
             [
              0.3333333333333333,
              "#9c179e"
             ],
             [
              0.4444444444444444,
              "#bd3786"
             ],
             [
              0.5555555555555556,
              "#d8576b"
             ],
             [
              0.6666666666666666,
              "#ed7953"
             ],
             [
              0.7777777777777778,
              "#fb9f3a"
             ],
             [
              0.8888888888888888,
              "#fdca26"
             ],
             [
              1,
              "#f0f921"
             ]
            ],
            "type": "heatmap"
           }
          ],
          "heatmapgl": [
           {
            "colorbar": {
             "outlinewidth": 0,
             "ticks": ""
            },
            "colorscale": [
             [
              0,
              "#0d0887"
             ],
             [
              0.1111111111111111,
              "#46039f"
             ],
             [
              0.2222222222222222,
              "#7201a8"
             ],
             [
              0.3333333333333333,
              "#9c179e"
             ],
             [
              0.4444444444444444,
              "#bd3786"
             ],
             [
              0.5555555555555556,
              "#d8576b"
             ],
             [
              0.6666666666666666,
              "#ed7953"
             ],
             [
              0.7777777777777778,
              "#fb9f3a"
             ],
             [
              0.8888888888888888,
              "#fdca26"
             ],
             [
              1,
              "#f0f921"
             ]
            ],
            "type": "heatmapgl"
           }
          ],
          "histogram": [
           {
            "marker": {
             "pattern": {
              "fillmode": "overlay",
              "size": 10,
              "solidity": 0.2
             }
            },
            "type": "histogram"
           }
          ],
          "histogram2d": [
           {
            "colorbar": {
             "outlinewidth": 0,
             "ticks": ""
            },
            "colorscale": [
             [
              0,
              "#0d0887"
             ],
             [
              0.1111111111111111,
              "#46039f"
             ],
             [
              0.2222222222222222,
              "#7201a8"
             ],
             [
              0.3333333333333333,
              "#9c179e"
             ],
             [
              0.4444444444444444,
              "#bd3786"
             ],
             [
              0.5555555555555556,
              "#d8576b"
             ],
             [
              0.6666666666666666,
              "#ed7953"
             ],
             [
              0.7777777777777778,
              "#fb9f3a"
             ],
             [
              0.8888888888888888,
              "#fdca26"
             ],
             [
              1,
              "#f0f921"
             ]
            ],
            "type": "histogram2d"
           }
          ],
          "histogram2dcontour": [
           {
            "colorbar": {
             "outlinewidth": 0,
             "ticks": ""
            },
            "colorscale": [
             [
              0,
              "#0d0887"
             ],
             [
              0.1111111111111111,
              "#46039f"
             ],
             [
              0.2222222222222222,
              "#7201a8"
             ],
             [
              0.3333333333333333,
              "#9c179e"
             ],
             [
              0.4444444444444444,
              "#bd3786"
             ],
             [
              0.5555555555555556,
              "#d8576b"
             ],
             [
              0.6666666666666666,
              "#ed7953"
             ],
             [
              0.7777777777777778,
              "#fb9f3a"
             ],
             [
              0.8888888888888888,
              "#fdca26"
             ],
             [
              1,
              "#f0f921"
             ]
            ],
            "type": "histogram2dcontour"
           }
          ],
          "mesh3d": [
           {
            "colorbar": {
             "outlinewidth": 0,
             "ticks": ""
            },
            "type": "mesh3d"
           }
          ],
          "parcoords": [
           {
            "line": {
             "colorbar": {
              "outlinewidth": 0,
              "ticks": ""
             }
            },
            "type": "parcoords"
           }
          ],
          "pie": [
           {
            "automargin": true,
            "type": "pie"
           }
          ],
          "scatter": [
           {
            "fillpattern": {
             "fillmode": "overlay",
             "size": 10,
             "solidity": 0.2
            },
            "type": "scatter"
           }
          ],
          "scatter3d": [
           {
            "line": {
             "colorbar": {
              "outlinewidth": 0,
              "ticks": ""
             }
            },
            "marker": {
             "colorbar": {
              "outlinewidth": 0,
              "ticks": ""
             }
            },
            "type": "scatter3d"
           }
          ],
          "scattercarpet": [
           {
            "marker": {
             "colorbar": {
              "outlinewidth": 0,
              "ticks": ""
             }
            },
            "type": "scattercarpet"
           }
          ],
          "scattergeo": [
           {
            "marker": {
             "colorbar": {
              "outlinewidth": 0,
              "ticks": ""
             }
            },
            "type": "scattergeo"
           }
          ],
          "scattergl": [
           {
            "marker": {
             "colorbar": {
              "outlinewidth": 0,
              "ticks": ""
             }
            },
            "type": "scattergl"
           }
          ],
          "scattermapbox": [
           {
            "marker": {
             "colorbar": {
              "outlinewidth": 0,
              "ticks": ""
             }
            },
            "type": "scattermapbox"
           }
          ],
          "scatterpolar": [
           {
            "marker": {
             "colorbar": {
              "outlinewidth": 0,
              "ticks": ""
             }
            },
            "type": "scatterpolar"
           }
          ],
          "scatterpolargl": [
           {
            "marker": {
             "colorbar": {
              "outlinewidth": 0,
              "ticks": ""
             }
            },
            "type": "scatterpolargl"
           }
          ],
          "scatterternary": [
           {
            "marker": {
             "colorbar": {
              "outlinewidth": 0,
              "ticks": ""
             }
            },
            "type": "scatterternary"
           }
          ],
          "surface": [
           {
            "colorbar": {
             "outlinewidth": 0,
             "ticks": ""
            },
            "colorscale": [
             [
              0,
              "#0d0887"
             ],
             [
              0.1111111111111111,
              "#46039f"
             ],
             [
              0.2222222222222222,
              "#7201a8"
             ],
             [
              0.3333333333333333,
              "#9c179e"
             ],
             [
              0.4444444444444444,
              "#bd3786"
             ],
             [
              0.5555555555555556,
              "#d8576b"
             ],
             [
              0.6666666666666666,
              "#ed7953"
             ],
             [
              0.7777777777777778,
              "#fb9f3a"
             ],
             [
              0.8888888888888888,
              "#fdca26"
             ],
             [
              1,
              "#f0f921"
             ]
            ],
            "type": "surface"
           }
          ],
          "table": [
           {
            "cells": {
             "fill": {
              "color": "#EBF0F8"
             },
             "line": {
              "color": "white"
             }
            },
            "header": {
             "fill": {
              "color": "#C8D4E3"
             },
             "line": {
              "color": "white"
             }
            },
            "type": "table"
           }
          ]
         },
         "layout": {
          "annotationdefaults": {
           "arrowcolor": "#2a3f5f",
           "arrowhead": 0,
           "arrowwidth": 1
          },
          "autotypenumbers": "strict",
          "coloraxis": {
           "colorbar": {
            "outlinewidth": 0,
            "ticks": ""
           }
          },
          "colorscale": {
           "diverging": [
            [
             0,
             "#8e0152"
            ],
            [
             0.1,
             "#c51b7d"
            ],
            [
             0.2,
             "#de77ae"
            ],
            [
             0.3,
             "#f1b6da"
            ],
            [
             0.4,
             "#fde0ef"
            ],
            [
             0.5,
             "#f7f7f7"
            ],
            [
             0.6,
             "#e6f5d0"
            ],
            [
             0.7,
             "#b8e186"
            ],
            [
             0.8,
             "#7fbc41"
            ],
            [
             0.9,
             "#4d9221"
            ],
            [
             1,
             "#276419"
            ]
           ],
           "sequential": [
            [
             0,
             "#0d0887"
            ],
            [
             0.1111111111111111,
             "#46039f"
            ],
            [
             0.2222222222222222,
             "#7201a8"
            ],
            [
             0.3333333333333333,
             "#9c179e"
            ],
            [
             0.4444444444444444,
             "#bd3786"
            ],
            [
             0.5555555555555556,
             "#d8576b"
            ],
            [
             0.6666666666666666,
             "#ed7953"
            ],
            [
             0.7777777777777778,
             "#fb9f3a"
            ],
            [
             0.8888888888888888,
             "#fdca26"
            ],
            [
             1,
             "#f0f921"
            ]
           ],
           "sequentialminus": [
            [
             0,
             "#0d0887"
            ],
            [
             0.1111111111111111,
             "#46039f"
            ],
            [
             0.2222222222222222,
             "#7201a8"
            ],
            [
             0.3333333333333333,
             "#9c179e"
            ],
            [
             0.4444444444444444,
             "#bd3786"
            ],
            [
             0.5555555555555556,
             "#d8576b"
            ],
            [
             0.6666666666666666,
             "#ed7953"
            ],
            [
             0.7777777777777778,
             "#fb9f3a"
            ],
            [
             0.8888888888888888,
             "#fdca26"
            ],
            [
             1,
             "#f0f921"
            ]
           ]
          },
          "colorway": [
           "#636efa",
           "#EF553B",
           "#00cc96",
           "#ab63fa",
           "#FFA15A",
           "#19d3f3",
           "#FF6692",
           "#B6E880",
           "#FF97FF",
           "#FECB52"
          ],
          "font": {
           "color": "#2a3f5f"
          },
          "geo": {
           "bgcolor": "white",
           "lakecolor": "white",
           "landcolor": "#E5ECF6",
           "showlakes": true,
           "showland": true,
           "subunitcolor": "white"
          },
          "hoverlabel": {
           "align": "left"
          },
          "hovermode": "closest",
          "mapbox": {
           "style": "light"
          },
          "paper_bgcolor": "white",
          "plot_bgcolor": "#E5ECF6",
          "polar": {
           "angularaxis": {
            "gridcolor": "white",
            "linecolor": "white",
            "ticks": ""
           },
           "bgcolor": "#E5ECF6",
           "radialaxis": {
            "gridcolor": "white",
            "linecolor": "white",
            "ticks": ""
           }
          },
          "scene": {
           "xaxis": {
            "backgroundcolor": "#E5ECF6",
            "gridcolor": "white",
            "gridwidth": 2,
            "linecolor": "white",
            "showbackground": true,
            "ticks": "",
            "zerolinecolor": "white"
           },
           "yaxis": {
            "backgroundcolor": "#E5ECF6",
            "gridcolor": "white",
            "gridwidth": 2,
            "linecolor": "white",
            "showbackground": true,
            "ticks": "",
            "zerolinecolor": "white"
           },
           "zaxis": {
            "backgroundcolor": "#E5ECF6",
            "gridcolor": "white",
            "gridwidth": 2,
            "linecolor": "white",
            "showbackground": true,
            "ticks": "",
            "zerolinecolor": "white"
           }
          },
          "shapedefaults": {
           "line": {
            "color": "#2a3f5f"
           }
          },
          "ternary": {
           "aaxis": {
            "gridcolor": "white",
            "linecolor": "white",
            "ticks": ""
           },
           "baxis": {
            "gridcolor": "white",
            "linecolor": "white",
            "ticks": ""
           },
           "bgcolor": "#E5ECF6",
           "caxis": {
            "gridcolor": "white",
            "linecolor": "white",
            "ticks": ""
           }
          },
          "title": {
           "x": 0.05
          },
          "xaxis": {
           "automargin": true,
           "gridcolor": "white",
           "linecolor": "white",
           "ticks": "",
           "title": {
            "standoff": 15
           },
           "zerolinecolor": "white",
           "zerolinewidth": 2
          },
          "yaxis": {
           "automargin": true,
           "gridcolor": "white",
           "linecolor": "white",
           "ticks": "",
           "title": {
            "standoff": 15
           },
           "zerolinecolor": "white",
           "zerolinewidth": 2
          }
         }
        },
        "title": {
         "text": "Avistamientos de felinos en Costa Rica según especie y género"
        }
       }
      },
      "text/html": [
       "<div>                            <div id=\"fd7c7499-7f46-461d-a81b-d610034a3b27\" class=\"plotly-graph-div\" style=\"height:525px; width:100%;\"></div>            <script type=\"text/javascript\">                require([\"plotly\"], function(Plotly) {                    window.PLOTLYENV=window.PLOTLYENV || {};                                    if (document.getElementById(\"fd7c7499-7f46-461d-a81b-d610034a3b27\")) {                    Plotly.newPlot(                        \"fd7c7499-7f46-461d-a81b-d610034a3b27\",                        [{\"branchvalues\":\"total\",\"domain\":{\"x\":[0.0,1.0],\"y\":[0.0,1.0]},\"hovertemplate\":\"labels=%{label}<br>count=%{value}<br>parent=%{parent}<br>id=%{id}<extra></extra>\",\"ids\":[\"Leopardus/Leopardus pardalis\",\"Leopardus/Leopardus tigrinus\",\"Leopardus/Leopardus wiedii\",\"Panthera/Panthera onca\",\"Puma/Puma concolor\",\"Puma/Puma yagouaroundi\",\"Leopardus\",\"Panthera\",\"Puma\"],\"labels\":[\"Leopardus pardalis\",\"Leopardus tigrinus\",\"Leopardus wiedii\",\"Panthera onca\",\"Puma concolor\",\"Puma yagouaroundi\",\"Leopardus\",\"Panthera\",\"Puma\"],\"name\":\"\",\"parents\":[\"Leopardus\",\"Leopardus\",\"Leopardus\",\"Panthera\",\"Puma\",\"Puma\",\"\",\"\",\"\"],\"values\":[67,6,22,27,54,14,95,27,68],\"type\":\"sunburst\"}],                        {\"template\":{\"data\":{\"histogram2dcontour\":[{\"type\":\"histogram2dcontour\",\"colorbar\":{\"outlinewidth\":0,\"ticks\":\"\"},\"colorscale\":[[0.0,\"#0d0887\"],[0.1111111111111111,\"#46039f\"],[0.2222222222222222,\"#7201a8\"],[0.3333333333333333,\"#9c179e\"],[0.4444444444444444,\"#bd3786\"],[0.5555555555555556,\"#d8576b\"],[0.6666666666666666,\"#ed7953\"],[0.7777777777777778,\"#fb9f3a\"],[0.8888888888888888,\"#fdca26\"],[1.0,\"#f0f921\"]]}],\"choropleth\":[{\"type\":\"choropleth\",\"colorbar\":{\"outlinewidth\":0,\"ticks\":\"\"}}],\"histogram2d\":[{\"type\":\"histogram2d\",\"colorbar\":{\"outlinewidth\":0,\"ticks\":\"\"},\"colorscale\":[[0.0,\"#0d0887\"],[0.1111111111111111,\"#46039f\"],[0.2222222222222222,\"#7201a8\"],[0.3333333333333333,\"#9c179e\"],[0.4444444444444444,\"#bd3786\"],[0.5555555555555556,\"#d8576b\"],[0.6666666666666666,\"#ed7953\"],[0.7777777777777778,\"#fb9f3a\"],[0.8888888888888888,\"#fdca26\"],[1.0,\"#f0f921\"]]}],\"heatmap\":[{\"type\":\"heatmap\",\"colorbar\":{\"outlinewidth\":0,\"ticks\":\"\"},\"colorscale\":[[0.0,\"#0d0887\"],[0.1111111111111111,\"#46039f\"],[0.2222222222222222,\"#7201a8\"],[0.3333333333333333,\"#9c179e\"],[0.4444444444444444,\"#bd3786\"],[0.5555555555555556,\"#d8576b\"],[0.6666666666666666,\"#ed7953\"],[0.7777777777777778,\"#fb9f3a\"],[0.8888888888888888,\"#fdca26\"],[1.0,\"#f0f921\"]]}],\"heatmapgl\":[{\"type\":\"heatmapgl\",\"colorbar\":{\"outlinewidth\":0,\"ticks\":\"\"},\"colorscale\":[[0.0,\"#0d0887\"],[0.1111111111111111,\"#46039f\"],[0.2222222222222222,\"#7201a8\"],[0.3333333333333333,\"#9c179e\"],[0.4444444444444444,\"#bd3786\"],[0.5555555555555556,\"#d8576b\"],[0.6666666666666666,\"#ed7953\"],[0.7777777777777778,\"#fb9f3a\"],[0.8888888888888888,\"#fdca26\"],[1.0,\"#f0f921\"]]}],\"contourcarpet\":[{\"type\":\"contourcarpet\",\"colorbar\":{\"outlinewidth\":0,\"ticks\":\"\"}}],\"contour\":[{\"type\":\"contour\",\"colorbar\":{\"outlinewidth\":0,\"ticks\":\"\"},\"colorscale\":[[0.0,\"#0d0887\"],[0.1111111111111111,\"#46039f\"],[0.2222222222222222,\"#7201a8\"],[0.3333333333333333,\"#9c179e\"],[0.4444444444444444,\"#bd3786\"],[0.5555555555555556,\"#d8576b\"],[0.6666666666666666,\"#ed7953\"],[0.7777777777777778,\"#fb9f3a\"],[0.8888888888888888,\"#fdca26\"],[1.0,\"#f0f921\"]]}],\"surface\":[{\"type\":\"surface\",\"colorbar\":{\"outlinewidth\":0,\"ticks\":\"\"},\"colorscale\":[[0.0,\"#0d0887\"],[0.1111111111111111,\"#46039f\"],[0.2222222222222222,\"#7201a8\"],[0.3333333333333333,\"#9c179e\"],[0.4444444444444444,\"#bd3786\"],[0.5555555555555556,\"#d8576b\"],[0.6666666666666666,\"#ed7953\"],[0.7777777777777778,\"#fb9f3a\"],[0.8888888888888888,\"#fdca26\"],[1.0,\"#f0f921\"]]}],\"mesh3d\":[{\"type\":\"mesh3d\",\"colorbar\":{\"outlinewidth\":0,\"ticks\":\"\"}}],\"scatter\":[{\"fillpattern\":{\"fillmode\":\"overlay\",\"size\":10,\"solidity\":0.2},\"type\":\"scatter\"}],\"parcoords\":[{\"type\":\"parcoords\",\"line\":{\"colorbar\":{\"outlinewidth\":0,\"ticks\":\"\"}}}],\"scatterpolargl\":[{\"type\":\"scatterpolargl\",\"marker\":{\"colorbar\":{\"outlinewidth\":0,\"ticks\":\"\"}}}],\"bar\":[{\"error_x\":{\"color\":\"#2a3f5f\"},\"error_y\":{\"color\":\"#2a3f5f\"},\"marker\":{\"line\":{\"color\":\"#E5ECF6\",\"width\":0.5},\"pattern\":{\"fillmode\":\"overlay\",\"size\":10,\"solidity\":0.2}},\"type\":\"bar\"}],\"scattergeo\":[{\"type\":\"scattergeo\",\"marker\":{\"colorbar\":{\"outlinewidth\":0,\"ticks\":\"\"}}}],\"scatterpolar\":[{\"type\":\"scatterpolar\",\"marker\":{\"colorbar\":{\"outlinewidth\":0,\"ticks\":\"\"}}}],\"histogram\":[{\"marker\":{\"pattern\":{\"fillmode\":\"overlay\",\"size\":10,\"solidity\":0.2}},\"type\":\"histogram\"}],\"scattergl\":[{\"type\":\"scattergl\",\"marker\":{\"colorbar\":{\"outlinewidth\":0,\"ticks\":\"\"}}}],\"scatter3d\":[{\"type\":\"scatter3d\",\"line\":{\"colorbar\":{\"outlinewidth\":0,\"ticks\":\"\"}},\"marker\":{\"colorbar\":{\"outlinewidth\":0,\"ticks\":\"\"}}}],\"scattermapbox\":[{\"type\":\"scattermapbox\",\"marker\":{\"colorbar\":{\"outlinewidth\":0,\"ticks\":\"\"}}}],\"scatterternary\":[{\"type\":\"scatterternary\",\"marker\":{\"colorbar\":{\"outlinewidth\":0,\"ticks\":\"\"}}}],\"scattercarpet\":[{\"type\":\"scattercarpet\",\"marker\":{\"colorbar\":{\"outlinewidth\":0,\"ticks\":\"\"}}}],\"carpet\":[{\"aaxis\":{\"endlinecolor\":\"#2a3f5f\",\"gridcolor\":\"white\",\"linecolor\":\"white\",\"minorgridcolor\":\"white\",\"startlinecolor\":\"#2a3f5f\"},\"baxis\":{\"endlinecolor\":\"#2a3f5f\",\"gridcolor\":\"white\",\"linecolor\":\"white\",\"minorgridcolor\":\"white\",\"startlinecolor\":\"#2a3f5f\"},\"type\":\"carpet\"}],\"table\":[{\"cells\":{\"fill\":{\"color\":\"#EBF0F8\"},\"line\":{\"color\":\"white\"}},\"header\":{\"fill\":{\"color\":\"#C8D4E3\"},\"line\":{\"color\":\"white\"}},\"type\":\"table\"}],\"barpolar\":[{\"marker\":{\"line\":{\"color\":\"#E5ECF6\",\"width\":0.5},\"pattern\":{\"fillmode\":\"overlay\",\"size\":10,\"solidity\":0.2}},\"type\":\"barpolar\"}],\"pie\":[{\"automargin\":true,\"type\":\"pie\"}]},\"layout\":{\"autotypenumbers\":\"strict\",\"colorway\":[\"#636efa\",\"#EF553B\",\"#00cc96\",\"#ab63fa\",\"#FFA15A\",\"#19d3f3\",\"#FF6692\",\"#B6E880\",\"#FF97FF\",\"#FECB52\"],\"font\":{\"color\":\"#2a3f5f\"},\"hovermode\":\"closest\",\"hoverlabel\":{\"align\":\"left\"},\"paper_bgcolor\":\"white\",\"plot_bgcolor\":\"#E5ECF6\",\"polar\":{\"bgcolor\":\"#E5ECF6\",\"angularaxis\":{\"gridcolor\":\"white\",\"linecolor\":\"white\",\"ticks\":\"\"},\"radialaxis\":{\"gridcolor\":\"white\",\"linecolor\":\"white\",\"ticks\":\"\"}},\"ternary\":{\"bgcolor\":\"#E5ECF6\",\"aaxis\":{\"gridcolor\":\"white\",\"linecolor\":\"white\",\"ticks\":\"\"},\"baxis\":{\"gridcolor\":\"white\",\"linecolor\":\"white\",\"ticks\":\"\"},\"caxis\":{\"gridcolor\":\"white\",\"linecolor\":\"white\",\"ticks\":\"\"}},\"coloraxis\":{\"colorbar\":{\"outlinewidth\":0,\"ticks\":\"\"}},\"colorscale\":{\"sequential\":[[0.0,\"#0d0887\"],[0.1111111111111111,\"#46039f\"],[0.2222222222222222,\"#7201a8\"],[0.3333333333333333,\"#9c179e\"],[0.4444444444444444,\"#bd3786\"],[0.5555555555555556,\"#d8576b\"],[0.6666666666666666,\"#ed7953\"],[0.7777777777777778,\"#fb9f3a\"],[0.8888888888888888,\"#fdca26\"],[1.0,\"#f0f921\"]],\"sequentialminus\":[[0.0,\"#0d0887\"],[0.1111111111111111,\"#46039f\"],[0.2222222222222222,\"#7201a8\"],[0.3333333333333333,\"#9c179e\"],[0.4444444444444444,\"#bd3786\"],[0.5555555555555556,\"#d8576b\"],[0.6666666666666666,\"#ed7953\"],[0.7777777777777778,\"#fb9f3a\"],[0.8888888888888888,\"#fdca26\"],[1.0,\"#f0f921\"]],\"diverging\":[[0,\"#8e0152\"],[0.1,\"#c51b7d\"],[0.2,\"#de77ae\"],[0.3,\"#f1b6da\"],[0.4,\"#fde0ef\"],[0.5,\"#f7f7f7\"],[0.6,\"#e6f5d0\"],[0.7,\"#b8e186\"],[0.8,\"#7fbc41\"],[0.9,\"#4d9221\"],[1,\"#276419\"]]},\"xaxis\":{\"gridcolor\":\"white\",\"linecolor\":\"white\",\"ticks\":\"\",\"title\":{\"standoff\":15},\"zerolinecolor\":\"white\",\"automargin\":true,\"zerolinewidth\":2},\"yaxis\":{\"gridcolor\":\"white\",\"linecolor\":\"white\",\"ticks\":\"\",\"title\":{\"standoff\":15},\"zerolinecolor\":\"white\",\"automargin\":true,\"zerolinewidth\":2},\"scene\":{\"xaxis\":{\"backgroundcolor\":\"#E5ECF6\",\"gridcolor\":\"white\",\"linecolor\":\"white\",\"showbackground\":true,\"ticks\":\"\",\"zerolinecolor\":\"white\",\"gridwidth\":2},\"yaxis\":{\"backgroundcolor\":\"#E5ECF6\",\"gridcolor\":\"white\",\"linecolor\":\"white\",\"showbackground\":true,\"ticks\":\"\",\"zerolinecolor\":\"white\",\"gridwidth\":2},\"zaxis\":{\"backgroundcolor\":\"#E5ECF6\",\"gridcolor\":\"white\",\"linecolor\":\"white\",\"showbackground\":true,\"ticks\":\"\",\"zerolinecolor\":\"white\",\"gridwidth\":2}},\"shapedefaults\":{\"line\":{\"color\":\"#2a3f5f\"}},\"annotationdefaults\":{\"arrowcolor\":\"#2a3f5f\",\"arrowhead\":0,\"arrowwidth\":1},\"geo\":{\"bgcolor\":\"white\",\"landcolor\":\"#E5ECF6\",\"subunitcolor\":\"white\",\"showland\":true,\"showlakes\":true,\"lakecolor\":\"white\"},\"title\":{\"x\":0.05},\"mapbox\":{\"style\":\"light\"}}},\"legend\":{\"tracegroupgap\":0},\"title\":{\"text\":\"Avistamientos de felinos en Costa Rica seg\\u00fan especie y g\\u00e9nero\"}},                        {\"responsive\": true}                    ).then(function(){\n",
       "                            \n",
       "var gd = document.getElementById('fd7c7499-7f46-461d-a81b-d610034a3b27');\n",
       "var x = new MutationObserver(function (mutations, observer) {{\n",
       "        var display = window.getComputedStyle(gd).display;\n",
       "        if (!display || display === 'none') {{\n",
       "            console.log([gd, 'removed!']);\n",
       "            Plotly.purge(gd);\n",
       "            observer.disconnect();\n",
       "        }}\n",
       "}});\n",
       "\n",
       "// Listen for the removal of the full notebook cells\n",
       "var notebookContainer = gd.closest('#notebook-container');\n",
       "if (notebookContainer) {{\n",
       "    x.observe(notebookContainer, {childList: true});\n",
       "}}\n",
       "\n",
       "// Listen for the clearing of the current output cell\n",
       "var outputEl = gd.closest('.output');\n",
       "if (outputEl) {{\n",
       "    x.observe(outputEl, {childList: true});\n",
       "}}\n",
       "\n",
       "                        })                };                });            </script>        </div>"
      ]
     },
     "metadata": {},
     "output_type": "display_data"
    }
   ],
   "source": [
    "# Se crea el grafico\n",
    "px.sunburst(felinos_genero_especie,  \n",
    "            path=[\"Genero\",\"Especies\"],\n",
    "            title=\"Avistamientos de felinos en Costa Rica según especie y género\")"
   ]
  },
  {
   "cell_type": "markdown",
   "id": "ff2f99c3",
   "metadata": {},
   "source": [
    "## Mapa de ASP y Felinos en Costa Rica"
   ]
  },
  {
   "cell_type": "code",
   "execution_count": null,
   "id": "a618a557",
   "metadata": {},
   "outputs": [],
   "source": [
    "# Se crea el mapa base\n",
    "m = folium.Map(\n",
    "    location=[10, -84], \n",
    "    width=650, height=400, \n",
    "    zoom_start=7, \n",
    "    control_scale=True)\n",
    "\n",
    "# Se añaden mapas base\n",
    "folium.TileLayer(\n",
    "    tiles='CartoDB positron', \n",
    "    name='CartoDB positron').add_to(m)\n",
    "\n",
    "folium.TileLayer(\n",
    "    tiles='CartoDB dark_matter', \n",
    "    name='CartoDB dark_matter').add_to(m)\n",
    "\n",
    "# Se cargan los datos de ASP\n",
    "geojson = folium.GeoJson(\"../datos/areas.geojson\", name='Áreas de conservación C.R').add_to(m)\n",
    "folium.features.GeoJsonPopup(fields=['nombre_asp'],labels=False).add_to(gjson)\n",
    "\n",
    "# Se cargan datos de felinos y se crea el pop up\n",
    "felinos[\"popup\"] = felinos[\"species\"] + \" \" + felinos[\"stateProvince\"]+ \" \" + felinos[\"eventDate\"]+ \" \" + felinos[\"locality\"]\n",
    "felinos.fillna(\"NaN\")\n",
    "\n",
    "# Se crea un mapa de calor con los datos de felinos\n",
    "HeatMap(data=felinos[['decimalLatitude', 'decimalLongitude']], radius=10).add_to(m)\n",
    "    \n",
    "#Se añade un control de capas\n",
    "folium.LayerControl().add_to(m)\n",
    "\n",
    "\n",
    "m\n",
    "\n"
   ]
  },
  {
   "cell_type": "code",
   "execution_count": null,
   "id": "7fce73d6",
   "metadata": {},
   "outputs": [],
   "source": []
  }
 ],
 "metadata": {
  "kernelspec": {
   "display_name": "Python 3 (ipykernel)",
   "language": "python",
   "name": "python3"
  },
  "language_info": {
   "codemirror_mode": {
    "name": "ipython",
    "version": 3
   },
   "file_extension": ".py",
   "mimetype": "text/x-python",
   "name": "python",
   "nbconvert_exporter": "python",
   "pygments_lexer": "ipython3",
   "version": "3.11.0"
  }
 },
 "nbformat": 4,
 "nbformat_minor": 5
}
